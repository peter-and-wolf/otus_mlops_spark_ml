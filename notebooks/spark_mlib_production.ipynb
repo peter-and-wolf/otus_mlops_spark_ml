{
 "cells": [
  {
   "cell_type": "markdown",
   "id": "10205d06-d761-435b-8abe-ecea1a207d23",
   "metadata": {},
   "source": [
    "# Spark ML Production"
   ]
  },
  {
   "cell_type": "code",
   "execution_count": 4,
   "id": "36f1c267-90b2-4372-a7cc-26d02f507366",
   "metadata": {},
   "outputs": [],
   "source": [
    "%matplotlib inline\n",
    "%config InlineBackend.figure_format='retina'\n",
    "\n",
    "import findspark\n",
    "findspark.init()"
   ]
  },
  {
   "cell_type": "code",
   "execution_count": 5,
   "id": "68c7850d-78be-4618-b3ff-b29af7a6c540",
   "metadata": {},
   "outputs": [
    {
     "name": "stderr",
     "output_type": "stream",
     "text": [
      "SLF4J: Class path contains multiple SLF4J bindings.\n",
      "SLF4J: Found binding in [jar:file:/usr/lib/spark/jars/log4j-slf4j-impl-2.17.2.jar!/org/slf4j/impl/StaticLoggerBinder.class]\n",
      "SLF4J: Found binding in [jar:file:/usr/lib/hadoop/lib/slf4j-log4j12-1.7.30.jar!/org/slf4j/impl/StaticLoggerBinder.class]\n",
      "SLF4J: See http://www.slf4j.org/codes.html#multiple_bindings for an explanation.\n",
      "SLF4J: Actual binding is of type [org.apache.logging.slf4j.Log4jLoggerFactory]\n",
      "Setting default log level to \"WARN\".\n",
      "To adjust logging level use sc.setLogLevel(newLevel). For SparkR, use setLogLevel(newLevel).\n"
     ]
    },
    {
     "name": "stdout",
     "output_type": "stream",
     "text": [
      "24/12/04 14:58:25 WARN Utils: Service 'SparkUI' could not bind on port 4040. Attempting port 4041.\n"
     ]
    }
   ],
   "source": [
    "from pyspark.sql import SparkSession\n",
    "from pyspark.sql import functions as f\n",
    "\n",
    "spark = SparkSession\\\n",
    "    .builder\\\n",
    "    .master(\"local[*]\")\\\n",
    "    .appName(\"Spark ML Production\")\\\n",
    "    .config(\"spark.sql.repl.eagerEval.enabled\", True)\\\n",
    "    .getOrCreate()"
   ]
  },
  {
   "cell_type": "markdown",
   "id": "835b4c1b-0044-43c2-aa25-ea1a9051663c",
   "metadata": {},
   "source": [
    "## Загружаем данные"
   ]
  },
  {
   "cell_type": "code",
   "execution_count": 7,
   "id": "5750698b-16ab-41f1-b3a3-da434b9b18d1",
   "metadata": {},
   "outputs": [
    {
     "name": "stderr",
     "output_type": "stream",
     "text": [
      "                                                                                "
     ]
    }
   ],
   "source": [
    "data = spark\\\n",
    "    .read\\\n",
    "    .option(\"header\", \"true\")\\\n",
    "    .option(\"inferSchema\", \"true\")\\\n",
    "    .csv(\"data/BankChurners.csv\")"
   ]
  },
  {
   "cell_type": "markdown",
   "id": "02238a03-8dcc-46af-8e61-ed1391b0299f",
   "metadata": {},
   "source": [
    "## Загружаем модель"
   ]
  },
  {
   "cell_type": "code",
   "execution_count": 8,
   "id": "b998ac79-5b18-41dc-b9b5-c1047f53e627",
   "metadata": {},
   "outputs": [],
   "source": [
    "from pyspark.ml import PipelineModel\n",
    "\n",
    "model = PipelineModel.load(\"data/pipelineModel\")"
   ]
  },
  {
   "cell_type": "markdown",
   "id": "1184d32c-de51-457c-beb9-c654f77a4375",
   "metadata": {},
   "source": [
    "## Вычисляем"
   ]
  },
  {
   "cell_type": "code",
   "execution_count": 9,
   "id": "fb7db2a4-b94a-4bd7-a0e4-d0261ed8753b",
   "metadata": {},
   "outputs": [],
   "source": [
    "predicted = model.transform(data)"
   ]
  },
  {
   "cell_type": "code",
   "execution_count": 11,
   "id": "211f04fe-603d-454d-80f0-1b92b8578550",
   "metadata": {},
   "outputs": [
    {
     "data": {
      "text/html": [
       "<table border='1'>\n",
       "<tr><th>CLIENTNUM</th><th>Attrition_Flag</th><th>Customer_Age</th><th>Gender</th><th>Dependent_count</th><th>Education_Level</th><th>Marital_Status</th><th>Income_Category</th><th>Card_Category</th><th>Months_on_book</th><th>Total_Relationship_Count</th><th>Months_Inactive_12_mon</th><th>Contacts_Count_12_mon</th><th>Credit_Limit</th><th>Total_Revolving_Bal</th><th>Avg_Open_To_Buy</th><th>Total_Amt_Chng_Q4_Q1</th><th>Total_Trans_Amt</th><th>Total_Trans_Ct</th><th>Total_Ct_Chng_Q4_Q1</th><th>Avg_Utilization_Ratio</th><th>Naive_Bayes_Classifier_Attrition_Flag_Card_Category_Contacts_Count_12_mon_Dependent_count_Education_Level_Months_Inactive_12_mon_1</th><th>Naive_Bayes_Classifier_Attrition_Flag_Card_Category_Contacts_Count_12_mon_Dependent_count_Education_Level_Months_Inactive_12_mon_2</th><th>Gender_Indexed</th><th>Education_Level_Indexed</th><th>Marital_Status_Indexed</th><th>Income_Category_Indexed</th><th>Card_Category_Indexed</th><th>Gender_Indexed_Coded</th><th>Education_Level_Indexed_Coded</th><th>Marital_Status_Indexed_Coded</th><th>Income_Category_Indexed_Coded</th><th>Card_Category_Indexed_Coded</th><th>features</th><th>scaledFeatures</th><th>selectedFeatures</th><th>rawPrediction</th><th>probability</th><th>prediction</th></tr>\n",
       "<tr><td>768805383</td><td>Existing Customer</td><td>45</td><td>M</td><td>3</td><td>High School</td><td>Married</td><td>$60K - $80K</td><td>Blue</td><td>39</td><td>5</td><td>1</td><td>3</td><td>12691.0</td><td>777</td><td>11914.0</td><td>1.335</td><td>1144</td><td>42</td><td>1.625</td><td>0.061</td><td>9.3448E-5</td><td>0.99991</td><td>1.0</td><td>1.0</td><td>0.0</td><td>3.0</td><td>0.0</td><td>(1,[],[])</td><td>(6,[1],[1.0])</td><td>(3,[0],[1.0])</td><td>(5,[3],[1.0])</td><td>(3,[0],[1.0])</td><td>(28,[0,1,2,3,4,5,...</td><td>(28,[0,1,2,3,4,5,...</td><td>(21,[0,1,2,3,4,5,...</td><td>[3.51896371925687...</td><td>[0.97122255488720...</td><td>0.0</td></tr>\n",
       "<tr><td>818770008</td><td>Existing Customer</td><td>49</td><td>F</td><td>5</td><td>Graduate</td><td>Single</td><td>Less than $40K</td><td>Blue</td><td>44</td><td>6</td><td>1</td><td>2</td><td>8256.0</td><td>864</td><td>7392.0</td><td>1.541</td><td>1291</td><td>33</td><td>3.714</td><td>0.105</td><td>5.6861E-5</td><td>0.99994</td><td>0.0</td><td>0.0</td><td>1.0</td><td>0.0</td><td>0.0</td><td>(1,[0],[1.0])</td><td>(6,[0],[1.0])</td><td>(3,[1],[1.0])</td><td>(5,[0],[1.0])</td><td>(3,[0],[1.0])</td><td>(28,[0,1,2,3,4,5,...</td><td>(28,[0,1,2,3,4,5,...</td><td>(21,[0,1,2,3,4,5,...</td><td>[10.8446596535426...</td><td>[0.99998049186815...</td><td>0.0</td></tr>\n",
       "<tr><td>713982108</td><td>Existing Customer</td><td>51</td><td>M</td><td>3</td><td>Graduate</td><td>Married</td><td>$80K - $120K</td><td>Blue</td><td>36</td><td>4</td><td>1</td><td>0</td><td>3418.0</td><td>0</td><td>3418.0</td><td>2.594</td><td>1887</td><td>20</td><td>2.333</td><td>0.0</td><td>2.1081E-5</td><td>0.99998</td><td>1.0</td><td>0.0</td><td>0.0</td><td>2.0</td><td>0.0</td><td>(1,[],[])</td><td>(6,[0],[1.0])</td><td>(3,[0],[1.0])</td><td>(5,[2],[1.0])</td><td>(3,[0],[1.0])</td><td>(28,[0,1,2,3,5,6,...</td><td>(28,[0,1,2,3,5,6,...</td><td>(21,[0,1,2,3,5,6,...</td><td>[6.43360263097913...</td><td>[0.99839592497014...</td><td>0.0</td></tr>\n",
       "<tr><td>769911858</td><td>Existing Customer</td><td>40</td><td>F</td><td>4</td><td>High School</td><td>Unknown</td><td>Less than $40K</td><td>Blue</td><td>34</td><td>3</td><td>4</td><td>1</td><td>3313.0</td><td>2517</td><td>796.0</td><td>1.405</td><td>1171</td><td>20</td><td>2.333</td><td>0.76</td><td>1.3366E-4</td><td>0.99987</td><td>0.0</td><td>1.0</td><td>2.0</td><td>0.0</td><td>0.0</td><td>(1,[0],[1.0])</td><td>(6,[1],[1.0])</td><td>(3,[2],[1.0])</td><td>(5,[0],[1.0])</td><td>(3,[0],[1.0])</td><td>(28,[0,1,2,3,4,5,...</td><td>(28,[0,1,2,3,4,5,...</td><td>(21,[0,1,2,3,4,5,...</td><td>[5.78319104183641...</td><td>[0.99693057547687...</td><td>0.0</td></tr>\n",
       "<tr><td>709106358</td><td>Existing Customer</td><td>40</td><td>M</td><td>3</td><td>Uneducated</td><td>Married</td><td>$60K - $80K</td><td>Blue</td><td>21</td><td>5</td><td>1</td><td>0</td><td>4716.0</td><td>0</td><td>4716.0</td><td>2.175</td><td>816</td><td>28</td><td>2.5</td><td>0.0</td><td>2.1676E-5</td><td>0.99998</td><td>1.0</td><td>3.0</td><td>0.0</td><td>3.0</td><td>0.0</td><td>(1,[],[])</td><td>(6,[3],[1.0])</td><td>(3,[0],[1.0])</td><td>(5,[3],[1.0])</td><td>(3,[0],[1.0])</td><td>(28,[0,1,2,3,5,6,...</td><td>(28,[0,1,2,3,5,6,...</td><td>(21,[0,1,2,3,5,6,...</td><td>[7.17715157194106...</td><td>[0.99923674251591...</td><td>0.0</td></tr>\n",
       "</table>\n"
      ],
      "text/plain": [
       "+---------+-----------------+------------+------+---------------+---------------+--------------+---------------+-------------+--------------+------------------------+----------------------+---------------------+------------+-------------------+---------------+--------------------+---------------+--------------+-------------------+---------------------+----------------------------------------------------------------------------------------------------------------------------------+----------------------------------------------------------------------------------------------------------------------------------+--------------+-----------------------+----------------------+-----------------------+---------------------+--------------------+-----------------------------+----------------------------+-----------------------------+---------------------------+--------------------+--------------------+--------------------+--------------------+--------------------+----------+\n",
       "|CLIENTNUM|   Attrition_Flag|Customer_Age|Gender|Dependent_count|Education_Level|Marital_Status|Income_Category|Card_Category|Months_on_book|Total_Relationship_Count|Months_Inactive_12_mon|Contacts_Count_12_mon|Credit_Limit|Total_Revolving_Bal|Avg_Open_To_Buy|Total_Amt_Chng_Q4_Q1|Total_Trans_Amt|Total_Trans_Ct|Total_Ct_Chng_Q4_Q1|Avg_Utilization_Ratio|Naive_Bayes_Classifier_Attrition_Flag_Card_Category_Contacts_Count_12_mon_Dependent_count_Education_Level_Months_Inactive_12_mon_1|Naive_Bayes_Classifier_Attrition_Flag_Card_Category_Contacts_Count_12_mon_Dependent_count_Education_Level_Months_Inactive_12_mon_2|Gender_Indexed|Education_Level_Indexed|Marital_Status_Indexed|Income_Category_Indexed|Card_Category_Indexed|Gender_Indexed_Coded|Education_Level_Indexed_Coded|Marital_Status_Indexed_Coded|Income_Category_Indexed_Coded|Card_Category_Indexed_Coded|            features|      scaledFeatures|    selectedFeatures|       rawPrediction|         probability|prediction|\n",
       "+---------+-----------------+------------+------+---------------+---------------+--------------+---------------+-------------+--------------+------------------------+----------------------+---------------------+------------+-------------------+---------------+--------------------+---------------+--------------+-------------------+---------------------+----------------------------------------------------------------------------------------------------------------------------------+----------------------------------------------------------------------------------------------------------------------------------+--------------+-----------------------+----------------------+-----------------------+---------------------+--------------------+-----------------------------+----------------------------+-----------------------------+---------------------------+--------------------+--------------------+--------------------+--------------------+--------------------+----------+\n",
       "|768805383|Existing Customer|          45|     M|              3|    High School|       Married|    $60K - $80K|         Blue|            39|                       5|                     1|                    3|     12691.0|                777|        11914.0|               1.335|           1144|            42|              1.625|                0.061|                                                                                                                         9.3448E-5|                                                                                                                           0.99991|           1.0|                    1.0|                   0.0|                    3.0|                  0.0|           (1,[],[])|                (6,[1],[1.0])|               (3,[0],[1.0])|                (5,[3],[1.0])|              (3,[0],[1.0])|(28,[0,1,2,3,4,5,...|(28,[0,1,2,3,4,5,...|(21,[0,1,2,3,4,5,...|[3.51896371925687...|[0.97122255488720...|       0.0|\n",
       "|818770008|Existing Customer|          49|     F|              5|       Graduate|        Single| Less than $40K|         Blue|            44|                       6|                     1|                    2|      8256.0|                864|         7392.0|               1.541|           1291|            33|              3.714|                0.105|                                                                                                                         5.6861E-5|                                                                                                                           0.99994|           0.0|                    0.0|                   1.0|                    0.0|                  0.0|       (1,[0],[1.0])|                (6,[0],[1.0])|               (3,[1],[1.0])|                (5,[0],[1.0])|              (3,[0],[1.0])|(28,[0,1,2,3,4,5,...|(28,[0,1,2,3,4,5,...|(21,[0,1,2,3,4,5,...|[10.8446596535426...|[0.99998049186815...|       0.0|\n",
       "|713982108|Existing Customer|          51|     M|              3|       Graduate|       Married|   $80K - $120K|         Blue|            36|                       4|                     1|                    0|      3418.0|                  0|         3418.0|               2.594|           1887|            20|              2.333|                  0.0|                                                                                                                         2.1081E-5|                                                                                                                           0.99998|           1.0|                    0.0|                   0.0|                    2.0|                  0.0|           (1,[],[])|                (6,[0],[1.0])|               (3,[0],[1.0])|                (5,[2],[1.0])|              (3,[0],[1.0])|(28,[0,1,2,3,5,6,...|(28,[0,1,2,3,5,6,...|(21,[0,1,2,3,5,6,...|[6.43360263097913...|[0.99839592497014...|       0.0|\n",
       "|769911858|Existing Customer|          40|     F|              4|    High School|       Unknown| Less than $40K|         Blue|            34|                       3|                     4|                    1|      3313.0|               2517|          796.0|               1.405|           1171|            20|              2.333|                 0.76|                                                                                                                         1.3366E-4|                                                                                                                           0.99987|           0.0|                    1.0|                   2.0|                    0.0|                  0.0|       (1,[0],[1.0])|                (6,[1],[1.0])|               (3,[2],[1.0])|                (5,[0],[1.0])|              (3,[0],[1.0])|(28,[0,1,2,3,4,5,...|(28,[0,1,2,3,4,5,...|(21,[0,1,2,3,4,5,...|[5.78319104183641...|[0.99693057547687...|       0.0|\n",
       "|709106358|Existing Customer|          40|     M|              3|     Uneducated|       Married|    $60K - $80K|         Blue|            21|                       5|                     1|                    0|      4716.0|                  0|         4716.0|               2.175|            816|            28|                2.5|                  0.0|                                                                                                                         2.1676E-5|                                                                                                                           0.99998|           1.0|                    3.0|                   0.0|                    3.0|                  0.0|           (1,[],[])|                (6,[3],[1.0])|               (3,[0],[1.0])|                (5,[3],[1.0])|              (3,[0],[1.0])|(28,[0,1,2,3,5,6,...|(28,[0,1,2,3,5,6,...|(21,[0,1,2,3,5,6,...|[7.17715157194106...|[0.99923674251591...|       0.0|\n",
       "+---------+-----------------+------------+------+---------------+---------------+--------------+---------------+-------------+--------------+------------------------+----------------------+---------------------+------------+-------------------+---------------+--------------------+---------------+--------------+-------------------+---------------------+----------------------------------------------------------------------------------------------------------------------------------+----------------------------------------------------------------------------------------------------------------------------------+--------------+-----------------------+----------------------+-----------------------+---------------------+--------------------+-----------------------------+----------------------------+-----------------------------+---------------------------+--------------------+--------------------+--------------------+--------------------+--------------------+----------+"
      ]
     },
     "execution_count": 11,
     "metadata": {},
     "output_type": "execute_result"
    }
   ],
   "source": [
    "predicted.limit(5)"
   ]
  },
  {
   "cell_type": "markdown",
   "id": "abc7b05d-d595-43e9-bdfa-6ba4c4b13696",
   "metadata": {},
   "source": [
    "## Проверяем результат"
   ]
  },
  {
   "cell_type": "code",
   "execution_count": 12,
   "id": "c3da9245-7c26-47ab-a05a-5b368efab626",
   "metadata": {},
   "outputs": [
    {
     "name": "stdout",
     "output_type": "stream",
     "text": [
      "Confusion Matrix:\n",
      "1262\t2097\n",
      " 365\t6403\n"
     ]
    }
   ],
   "source": [
    "tp = predicted.filter((f.col(\"Attrition_Flag\") == \"Attrited Customer\") & (f.col(\"prediction\") == 1)).count()\n",
    "tn = predicted.filter((f.col(\"Attrition_Flag\") == \"Existing Customer\") & (f.col(\"prediction\") == 0)).count()\n",
    "fp = predicted.filter((f.col(\"Attrition_Flag\") == \"Existing Customer\") & (f.col(\"prediction\") == 1)).count()\n",
    "fn = predicted.filter((f.col(\"Attrition_Flag\") == \"Attrited Customer\") & (f.col(\"prediction\") == 0)).count()\n",
    "\n",
    "print(f\"Confusion Matrix:\\n{tp:>4}\\t{fp:>4}\\n{fn:>4}\\t{tn:>4}\")"
   ]
  },
  {
   "cell_type": "code",
   "execution_count": 13,
   "id": "5eb63b21-22aa-429e-b8dd-69acace400c1",
   "metadata": {},
   "outputs": [
    {
     "name": "stdout",
     "output_type": "stream",
     "text": [
      "Accuracy = 0.756887528389454\n",
      "Precision = 0.3757070556713308\n",
      "Recall = 0.775660725261217\n"
     ]
    }
   ],
   "source": [
    "accuracy = (tp + tn) / (tp + tn + fp + fn)\n",
    "precision = tp / (tp + fp)\n",
    "recall = tp / (tp + fn)\n",
    "\n",
    "print(f\"Accuracy = {accuracy}\")\n",
    "print(f\"Precision = {precision}\")\n",
    "print(f\"Recall = {recall}\")"
   ]
  },
  {
   "cell_type": "code",
   "execution_count": null,
   "id": "fd4f6a27-e08f-4ae8-9485-c9a9cabaecf0",
   "metadata": {},
   "outputs": [],
   "source": []
  }
 ],
 "metadata": {
  "kernelspec": {
   "display_name": "Python 3 (ipykernel)",
   "language": "python",
   "name": "python3"
  },
  "language_info": {
   "codemirror_mode": {
    "name": "ipython",
    "version": 3
   },
   "file_extension": ".py",
   "mimetype": "text/x-python",
   "name": "python",
   "nbconvert_exporter": "python",
   "pygments_lexer": "ipython3",
   "version": "3.8.13"
  }
 },
 "nbformat": 4,
 "nbformat_minor": 5
}
