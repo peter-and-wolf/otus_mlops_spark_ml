{
 "cells": [
  {
   "cell_type": "markdown",
   "metadata": {},
   "source": [
    "# Spark ML для задачи оттока\n",
    "\n",
    "Источник данных: [Kaggle](https://www.kaggle.com/sakshigoyal7/credit-card-customers)\n",
    "\n",
    "Описания полей:\n",
    "\n",
    " | Название        | Описание                                                                                                                            |\n",
    " |:----------------|:------------------------------------------------------------------------------------------------------------------------------------|\n",
    " | CLIENTNUM       | Client number. Unique identifier for the customer holding the account                                                               |\n",
    " | Attrition_Flag  | Internal event (customer activity) variable                                                                                         |\n",
    " | Customer_Age    | Demographic variable - Customer's Age in Years                                                                                      |\n",
    " | Gender          | Demographic variable - M=Male, F=Female                                                                                             |\n",
    " | Dependent_count | Demographic variable - Number of dependents                                                                                         |\n",
    " | Education_Level | Demographic variable - Educational Qualification of the account holder (example: high school, college graduate, etc.)               |\n",
    " | Marital_Status  | Demographic variable - Married, Single, Divorced, Unknown                                                                           |\n",
    " | Income_Category | Demographic variable - Annual Income Category of the account holder (< $40K, $40K - 60K, $60K - $80K, $80K-$120K, > $120K, Unknown) |\n",
    " | Card_Category   | Product Variable - Type of Card (Blue, Silver, Gold, Platinum)                                                                      |\n",
    " | Months_on_book  | Period of relationship with bank                                                                                                    |"
   ]
  },
  {
   "cell_type": "code",
   "execution_count": 23,
   "metadata": {},
   "outputs": [
    {
     "name": "stdout",
     "output_type": "stream",
     "text": [
      "Defaulting to user installation because normal site-packages is not writeable\n",
      "Requirement already satisfied: findspark in /home/ubuntu/.local/lib/python3.8/site-packages (2.0.1)\n"
     ]
    }
   ],
   "source": [
    "!pip install findspark"
   ]
  },
  {
   "cell_type": "code",
   "execution_count": 1,
   "metadata": {},
   "outputs": [],
   "source": [
    "%matplotlib inline\n",
    "%config InlineBackend.figure_format='retina'"
   ]
  },
  {
   "cell_type": "code",
   "execution_count": 2,
   "metadata": {},
   "outputs": [],
   "source": [
    "import findspark\n",
    "findspark.init()"
   ]
  },
  {
   "cell_type": "code",
   "execution_count": 3,
   "metadata": {
    "collapsed": false,
    "jupyter": {
     "outputs_hidden": false
    }
   },
   "outputs": [
    {
     "name": "stderr",
     "output_type": "stream",
     "text": [
      "SLF4J: Class path contains multiple SLF4J bindings.\n",
      "SLF4J: Found binding in [jar:file:/usr/lib/spark/jars/log4j-slf4j-impl-2.17.2.jar!/org/slf4j/impl/StaticLoggerBinder.class]\n",
      "SLF4J: Found binding in [jar:file:/usr/lib/hadoop/lib/slf4j-log4j12-1.7.30.jar!/org/slf4j/impl/StaticLoggerBinder.class]\n",
      "SLF4J: See http://www.slf4j.org/codes.html#multiple_bindings for an explanation.\n",
      "SLF4J: Actual binding is of type [org.apache.logging.slf4j.Log4jLoggerFactory]\n",
      "Setting default log level to \"WARN\".\n",
      "To adjust logging level use sc.setLogLevel(newLevel). For SparkR, use setLogLevel(newLevel).\n"
     ]
    }
   ],
   "source": [
    "from pyspark.sql import SparkSession\n",
    "from pyspark.sql import functions as f \n",
    "\n",
    "spark = SparkSession\\\n",
    "    .builder\\\n",
    "    .master(\"local[*]\")\\\n",
    "    .appName(\"Spark ML Research\")\\\n",
    "    .config(\"spark.sql.repl.eagerEval.enabled\", True) \\\n",
    "    .getOrCreate()"
   ]
  },
  {
   "cell_type": "code",
   "execution_count": 4,
   "metadata": {},
   "outputs": [
    {
     "data": {
      "text/plain": [
       "'3.3.2'"
      ]
     },
     "execution_count": 4,
     "metadata": {},
     "output_type": "execute_result"
    }
   ],
   "source": [
    "import pyspark\n",
    "pyspark.__version__"
   ]
  },
  {
   "cell_type": "markdown",
   "metadata": {},
   "source": [
    "## Загрузка и знакомство с данными"
   ]
  },
  {
   "cell_type": "code",
   "execution_count": 5,
   "metadata": {},
   "outputs": [
    {
     "name": "stderr",
     "output_type": "stream",
     "text": [
      "                                                                                "
     ]
    }
   ],
   "source": [
    "df = spark.read.csv(\"data/BankChurners.csv\", header=True, inferSchema=True)"
   ]
  },
  {
   "cell_type": "markdown",
   "metadata": {},
   "source": [
    "### Убираем первую и последние две колонки"
   ]
  },
  {
   "cell_type": "code",
   "execution_count": 6,
   "metadata": {
    "collapsed": false,
    "jupyter": {
     "outputs_hidden": false
    }
   },
   "outputs": [
    {
     "data": {
      "text/html": [
       "<table border='1'>\n",
       "<tr><th>Attrition_Flag</th><th>Customer_Age</th><th>Gender</th><th>Dependent_count</th><th>Education_Level</th><th>Marital_Status</th><th>Income_Category</th><th>Card_Category</th><th>Months_on_book</th><th>Total_Relationship_Count</th><th>Months_Inactive_12_mon</th><th>Contacts_Count_12_mon</th><th>Credit_Limit</th><th>Total_Revolving_Bal</th><th>Avg_Open_To_Buy</th><th>Total_Amt_Chng_Q4_Q1</th><th>Total_Trans_Amt</th><th>Total_Trans_Ct</th><th>Total_Ct_Chng_Q4_Q1</th><th>Avg_Utilization_Ratio</th></tr>\n",
       "<tr><td>Existing Customer</td><td>45</td><td>M</td><td>3</td><td>High School</td><td>Married</td><td>$60K - $80K</td><td>Blue</td><td>39</td><td>5</td><td>1</td><td>3</td><td>12691.0</td><td>777</td><td>11914.0</td><td>1.335</td><td>1144</td><td>42</td><td>1.625</td><td>0.061</td></tr>\n",
       "<tr><td>Existing Customer</td><td>49</td><td>F</td><td>5</td><td>Graduate</td><td>Single</td><td>Less than $40K</td><td>Blue</td><td>44</td><td>6</td><td>1</td><td>2</td><td>8256.0</td><td>864</td><td>7392.0</td><td>1.541</td><td>1291</td><td>33</td><td>3.714</td><td>0.105</td></tr>\n",
       "<tr><td>Existing Customer</td><td>51</td><td>M</td><td>3</td><td>Graduate</td><td>Married</td><td>$80K - $120K</td><td>Blue</td><td>36</td><td>4</td><td>1</td><td>0</td><td>3418.0</td><td>0</td><td>3418.0</td><td>2.594</td><td>1887</td><td>20</td><td>2.333</td><td>0.0</td></tr>\n",
       "<tr><td>Existing Customer</td><td>40</td><td>F</td><td>4</td><td>High School</td><td>Unknown</td><td>Less than $40K</td><td>Blue</td><td>34</td><td>3</td><td>4</td><td>1</td><td>3313.0</td><td>2517</td><td>796.0</td><td>1.405</td><td>1171</td><td>20</td><td>2.333</td><td>0.76</td></tr>\n",
       "<tr><td>Existing Customer</td><td>40</td><td>M</td><td>3</td><td>Uneducated</td><td>Married</td><td>$60K - $80K</td><td>Blue</td><td>21</td><td>5</td><td>1</td><td>0</td><td>4716.0</td><td>0</td><td>4716.0</td><td>2.175</td><td>816</td><td>28</td><td>2.5</td><td>0.0</td></tr>\n",
       "</table>\n"
      ],
      "text/plain": [
       "+-----------------+------------+------+---------------+---------------+--------------+---------------+-------------+--------------+------------------------+----------------------+---------------------+------------+-------------------+---------------+--------------------+---------------+--------------+-------------------+---------------------+\n",
       "|   Attrition_Flag|Customer_Age|Gender|Dependent_count|Education_Level|Marital_Status|Income_Category|Card_Category|Months_on_book|Total_Relationship_Count|Months_Inactive_12_mon|Contacts_Count_12_mon|Credit_Limit|Total_Revolving_Bal|Avg_Open_To_Buy|Total_Amt_Chng_Q4_Q1|Total_Trans_Amt|Total_Trans_Ct|Total_Ct_Chng_Q4_Q1|Avg_Utilization_Ratio|\n",
       "+-----------------+------------+------+---------------+---------------+--------------+---------------+-------------+--------------+------------------------+----------------------+---------------------+------------+-------------------+---------------+--------------------+---------------+--------------+-------------------+---------------------+\n",
       "|Existing Customer|          45|     M|              3|    High School|       Married|    $60K - $80K|         Blue|            39|                       5|                     1|                    3|     12691.0|                777|        11914.0|               1.335|           1144|            42|              1.625|                0.061|\n",
       "|Existing Customer|          49|     F|              5|       Graduate|        Single| Less than $40K|         Blue|            44|                       6|                     1|                    2|      8256.0|                864|         7392.0|               1.541|           1291|            33|              3.714|                0.105|\n",
       "|Existing Customer|          51|     M|              3|       Graduate|       Married|   $80K - $120K|         Blue|            36|                       4|                     1|                    0|      3418.0|                  0|         3418.0|               2.594|           1887|            20|              2.333|                  0.0|\n",
       "|Existing Customer|          40|     F|              4|    High School|       Unknown| Less than $40K|         Blue|            34|                       3|                     4|                    1|      3313.0|               2517|          796.0|               1.405|           1171|            20|              2.333|                 0.76|\n",
       "|Existing Customer|          40|     M|              3|     Uneducated|       Married|    $60K - $80K|         Blue|            21|                       5|                     1|                    0|      4716.0|                  0|         4716.0|               2.175|            816|            28|                2.5|                  0.0|\n",
       "+-----------------+------------+------+---------------+---------------+--------------+---------------+-------------+--------------+------------------------+----------------------+---------------------+------------+-------------------+---------------+--------------------+---------------+--------------+-------------------+---------------------+"
      ]
     },
     "execution_count": 6,
     "metadata": {},
     "output_type": "execute_result"
    }
   ],
   "source": [
    "columns = df.columns\n",
    "columnsLen = len(columns)\n",
    "colsToDrop = columns[0].split() + columns[columnsLen-2:columnsLen]\n",
    "\n",
    "df = df.drop(*colsToDrop)\n",
    "\n",
    "df.limit(5)"
   ]
  },
  {
   "cell_type": "markdown",
   "metadata": {},
   "source": [
    "### Определяем типы колонок"
   ]
  },
  {
   "cell_type": "code",
   "execution_count": 30,
   "metadata": {
    "collapsed": false,
    "jupyter": {
     "outputs_hidden": false
    }
   },
   "outputs": [
    {
     "name": "stdout",
     "output_type": "stream",
     "text": [
      "root\n",
      " |-- Attrition_Flag: string (nullable = true)\n",
      " |-- Customer_Age: integer (nullable = true)\n",
      " |-- Gender: string (nullable = true)\n",
      " |-- Dependent_count: integer (nullable = true)\n",
      " |-- Education_Level: string (nullable = true)\n",
      " |-- Marital_Status: string (nullable = true)\n",
      " |-- Income_Category: string (nullable = true)\n",
      " |-- Card_Category: string (nullable = true)\n",
      " |-- Months_on_book: integer (nullable = true)\n",
      " |-- Total_Relationship_Count: integer (nullable = true)\n",
      " |-- Months_Inactive_12_mon: integer (nullable = true)\n",
      " |-- Contacts_Count_12_mon: integer (nullable = true)\n",
      " |-- Credit_Limit: double (nullable = true)\n",
      " |-- Total_Revolving_Bal: integer (nullable = true)\n",
      " |-- Avg_Open_To_Buy: double (nullable = true)\n",
      " |-- Total_Amt_Chng_Q4_Q1: double (nullable = true)\n",
      " |-- Total_Trans_Amt: integer (nullable = true)\n",
      " |-- Total_Trans_Ct: integer (nullable = true)\n",
      " |-- Total_Ct_Chng_Q4_Q1: double (nullable = true)\n",
      " |-- Avg_Utilization_Ratio: double (nullable = true)\n",
      "\n"
     ]
    }
   ],
   "source": [
    "df.printSchema()"
   ]
  },
  {
   "cell_type": "code",
   "execution_count": 31,
   "metadata": {
    "collapsed": false,
    "jupyter": {
     "outputs_hidden": false
    }
   },
   "outputs": [
    {
     "name": "stdout",
     "output_type": "stream",
     "text": [
      "           Attrition_Flag\tstring\n",
      "             Customer_Age\tint\n",
      "                   Gender\tstring\n",
      "          Dependent_count\tint\n",
      "          Education_Level\tstring\n",
      "           Marital_Status\tstring\n",
      "          Income_Category\tstring\n",
      "            Card_Category\tstring\n",
      "           Months_on_book\tint\n",
      " Total_Relationship_Count\tint\n",
      "   Months_Inactive_12_mon\tint\n",
      "    Contacts_Count_12_mon\tint\n",
      "             Credit_Limit\tdouble\n",
      "      Total_Revolving_Bal\tint\n",
      "          Avg_Open_To_Buy\tdouble\n",
      "     Total_Amt_Chng_Q4_Q1\tdouble\n",
      "          Total_Trans_Amt\tint\n",
      "           Total_Trans_Ct\tint\n",
      "      Total_Ct_Chng_Q4_Q1\tdouble\n",
      "    Avg_Utilization_Ratio\tdouble\n"
     ]
    }
   ],
   "source": [
    "dt = df.dtypes\n",
    "\n",
    "for r in dt:\n",
    "    print(f\"{r[0]:>25}\\t{r[1]}\")"
   ]
  },
  {
   "cell_type": "code",
   "execution_count": 32,
   "metadata": {
    "collapsed": false,
    "jupyter": {
     "outputs_hidden": false
    }
   },
   "outputs": [
    {
     "name": "stdout",
     "output_type": "stream",
     "text": [
      "double 5\n",
      "int 9\n",
      "string 6\n"
     ]
    }
   ],
   "source": [
    "from itertools import groupby\n",
    "\n",
    "dt.sort(key=lambda x: x[1])\n",
    "\n",
    "for k, g in groupby(dt, lambda x: x[1]):\n",
    "    print(k, len(list(g)))"
   ]
  },
  {
   "cell_type": "markdown",
   "metadata": {},
   "source": [
    "### Проверим числовые колонки"
   ]
  },
  {
   "cell_type": "code",
   "execution_count": 33,
   "metadata": {
    "collapsed": false,
    "jupyter": {
     "outputs_hidden": false
    }
   },
   "outputs": [
    {
     "data": {
      "text/plain": [
       "['Customer_Age',\n",
       " 'Dependent_count',\n",
       " 'Months_on_book',\n",
       " 'Total_Relationship_Count',\n",
       " 'Months_Inactive_12_mon',\n",
       " 'Contacts_Count_12_mon',\n",
       " 'Credit_Limit',\n",
       " 'Total_Revolving_Bal',\n",
       " 'Avg_Open_To_Buy',\n",
       " 'Total_Amt_Chng_Q4_Q1',\n",
       " 'Total_Trans_Amt',\n",
       " 'Total_Trans_Ct',\n",
       " 'Total_Ct_Chng_Q4_Q1',\n",
       " 'Avg_Utilization_Ratio']"
      ]
     },
     "execution_count": 33,
     "metadata": {},
     "output_type": "execute_result"
    }
   ],
   "source": [
    "numericColumns = list(\n",
    "    map(\n",
    "        lambda x: x[0], \n",
    "        filter(lambda x: x[1] == \"double\" or x[1] == \"int\", df.dtypes)\n",
    "    )\n",
    ")\n",
    "numericColumns"
   ]
  },
  {
   "cell_type": "code",
   "execution_count": 34,
   "metadata": {
    "collapsed": false,
    "jupyter": {
     "outputs_hidden": false
    }
   },
   "outputs": [
    {
     "name": "stderr",
     "output_type": "stream",
     "text": [
      "                                                                                "
     ]
    },
    {
     "data": {
      "text/html": [
       "<table border='1'>\n",
       "<tr><th>summary</th><th>Customer_Age</th><th>Dependent_count</th><th>Months_on_book</th><th>Total_Relationship_Count</th><th>Months_Inactive_12_mon</th><th>Contacts_Count_12_mon</th><th>Credit_Limit</th><th>Total_Revolving_Bal</th><th>Avg_Open_To_Buy</th><th>Total_Amt_Chng_Q4_Q1</th><th>Total_Trans_Amt</th><th>Total_Trans_Ct</th><th>Total_Ct_Chng_Q4_Q1</th><th>Avg_Utilization_Ratio</th></tr>\n",
       "<tr><td>count</td><td>10127</td><td>10127</td><td>10127</td><td>10127</td><td>10127</td><td>10127</td><td>10127</td><td>10127</td><td>10127</td><td>10127</td><td>10127</td><td>10127</td><td>10127</td><td>10127</td></tr>\n",
       "<tr><td>mean</td><td>46.32596030413745</td><td>2.3462032191172115</td><td>35.928409203120374</td><td>3.8125802310654686</td><td>2.3411671768539546</td><td>2.4553174681544387</td><td>8631.953698034848</td><td>1162.8140614199665</td><td>7469.139636614887</td><td>0.7599406536980376</td><td>4404.086303939963</td><td>64.85869457884863</td><td>0.7122223758269962</td><td>0.2748935518909845</td></tr>\n",
       "<tr><td>stddev</td><td>8.016814032549046</td><td>1.29890834890379</td><td>7.98641633087208</td><td>1.55440786533883</td><td>1.0106223994182844</td><td>1.1062251426359249</td><td>9088.776650223148</td><td>814.9873352357533</td><td>9090.685323679114</td><td>0.2192067692307027</td><td>3397.129253557085</td><td>23.47257044923301</td><td>0.23808609133294137</td><td>0.27569146925238736</td></tr>\n",
       "<tr><td>min</td><td>26</td><td>0</td><td>13</td><td>1</td><td>0</td><td>0</td><td>1438.3</td><td>0</td><td>3.0</td><td>0.0</td><td>510</td><td>10</td><td>0.0</td><td>0.0</td></tr>\n",
       "<tr><td>25%</td><td>41</td><td>1</td><td>31</td><td>3</td><td>2</td><td>2</td><td>2555.0</td><td>357</td><td>1322.0</td><td>0.631</td><td>2155</td><td>45</td><td>0.581</td><td>0.022</td></tr>\n",
       "<tr><td>50%</td><td>46</td><td>2</td><td>36</td><td>4</td><td>2</td><td>2</td><td>4549.0</td><td>1276</td><td>3472.0</td><td>0.736</td><td>3899</td><td>67</td><td>0.702</td><td>0.175</td></tr>\n",
       "<tr><td>75%</td><td>52</td><td>3</td><td>40</td><td>5</td><td>3</td><td>3</td><td>11067.0</td><td>1784</td><td>9857.0</td><td>0.859</td><td>4741</td><td>81</td><td>0.818</td><td>0.503</td></tr>\n",
       "<tr><td>max</td><td>73</td><td>5</td><td>56</td><td>6</td><td>6</td><td>6</td><td>34516.0</td><td>2517</td><td>34516.0</td><td>3.397</td><td>18484</td><td>139</td><td>3.714</td><td>0.999</td></tr>\n",
       "</table>\n"
      ],
      "text/plain": [
       "+-------+-----------------+------------------+------------------+------------------------+----------------------+---------------------+-----------------+-------------------+-----------------+--------------------+-----------------+-----------------+-------------------+---------------------+\n",
       "|summary|     Customer_Age|   Dependent_count|    Months_on_book|Total_Relationship_Count|Months_Inactive_12_mon|Contacts_Count_12_mon|     Credit_Limit|Total_Revolving_Bal|  Avg_Open_To_Buy|Total_Amt_Chng_Q4_Q1|  Total_Trans_Amt|   Total_Trans_Ct|Total_Ct_Chng_Q4_Q1|Avg_Utilization_Ratio|\n",
       "+-------+-----------------+------------------+------------------+------------------------+----------------------+---------------------+-----------------+-------------------+-----------------+--------------------+-----------------+-----------------+-------------------+---------------------+\n",
       "|  count|            10127|             10127|             10127|                   10127|                 10127|                10127|            10127|              10127|            10127|               10127|            10127|            10127|              10127|                10127|\n",
       "|   mean|46.32596030413745|2.3462032191172115|35.928409203120374|      3.8125802310654686|    2.3411671768539546|   2.4553174681544387|8631.953698034848| 1162.8140614199665|7469.139636614887|  0.7599406536980376|4404.086303939963|64.85869457884863| 0.7122223758269962|   0.2748935518909845|\n",
       "| stddev|8.016814032549046|  1.29890834890379|  7.98641633087208|        1.55440786533883|    1.0106223994182844|   1.1062251426359249|9088.776650223148|  814.9873352357533|9090.685323679114|  0.2192067692307027|3397.129253557085|23.47257044923301|0.23808609133294137|  0.27569146925238736|\n",
       "|    min|               26|                 0|                13|                       1|                     0|                    0|           1438.3|                  0|              3.0|                 0.0|              510|               10|                0.0|                  0.0|\n",
       "|    25%|               41|                 1|                31|                       3|                     2|                    2|           2555.0|                357|           1322.0|               0.631|             2155|               45|              0.581|                0.022|\n",
       "|    50%|               46|                 2|                36|                       4|                     2|                    2|           4549.0|               1276|           3472.0|               0.736|             3899|               67|              0.702|                0.175|\n",
       "|    75%|               52|                 3|                40|                       5|                     3|                    3|          11067.0|               1784|           9857.0|               0.859|             4741|               81|              0.818|                0.503|\n",
       "|    max|               73|                 5|                56|                       6|                     6|                    6|          34516.0|               2517|          34516.0|               3.397|            18484|              139|              3.714|                0.999|\n",
       "+-------+-----------------+------------------+------------------+------------------------+----------------------+---------------------+-----------------+-------------------+-----------------+--------------------+-----------------+-----------------+-------------------+---------------------+"
      ]
     },
     "execution_count": 34,
     "metadata": {},
     "output_type": "execute_result"
    }
   ],
   "source": [
    "df.select(*numericColumns).summary()"
   ]
  },
  {
   "cell_type": "code",
   "execution_count": 35,
   "metadata": {
    "collapsed": false,
    "jupyter": {
     "outputs_hidden": false
    }
   },
   "outputs": [
    {
     "data": {
      "image/png": "[encoded data removed]",
      "text/plain": [
       "<Figure size 640x480 with 1 Axes>"
      ]
     },
     "metadata": {
      "image/png": {
       "height": 454,
       "width": 571
      }
     },
     "output_type": "display_data"
    }
   ],
   "source": [
    "import matplotlib.pyplot as plt\n",
    "\n",
    "age = df.groupBy(\"Customer_Age\").count().orderBy(\"Customer_Age\")\n",
    "x_val = [val[\"Customer_Age\"] for val in age.select(\"Customer_Age\").collect()]\n",
    "y_val = [val[\"count\"] for val in age.select(\"count\").collect()]\n",
    "\n",
    "plt.plot(x_val, y_val)\n",
    "\n",
    "plt.xlabel(\"Customer_Age\")\n",
    "plt.ylabel(\"count\")\n",
    "plt.title(\"Customer Age Distribution\")\n",
    "\n",
    "plt.show()"
   ]
  },
  {
   "cell_type": "markdown",
   "metadata": {},
   "source": [
    "## Создадим колонку с целевая переменной"
   ]
  },
  {
   "cell_type": "code",
   "execution_count": 36,
   "metadata": {
    "collapsed": false,
    "jupyter": {
     "outputs_hidden": false
    }
   },
   "outputs": [
    {
     "data": {
      "text/html": [
       "<table border='1'>\n",
       "<tr><th>Attrition_Flag</th><th>target</th></tr>\n",
       "<tr><td>Existing Customer</td><td>0</td></tr>\n",
       "<tr><td>Existing Customer</td><td>0</td></tr>\n",
       "<tr><td>Existing Customer</td><td>0</td></tr>\n",
       "<tr><td>Existing Customer</td><td>0</td></tr>\n",
       "<tr><td>Existing Customer</td><td>0</td></tr>\n",
       "</table>\n"
      ],
      "text/plain": [
       "+-----------------+------+\n",
       "|   Attrition_Flag|target|\n",
       "+-----------------+------+\n",
       "|Existing Customer|     0|\n",
       "|Existing Customer|     0|\n",
       "|Existing Customer|     0|\n",
       "|Existing Customer|     0|\n",
       "|Existing Customer|     0|\n",
       "+-----------------+------+"
      ]
     },
     "execution_count": 36,
     "metadata": {},
     "output_type": "execute_result"
    }
   ],
   "source": [
    "dft = df.withColumn(\n",
    "    \"target\", \n",
    "    f.when(df[\"Attrition_Flag\"] == \"Existing Customer\", 0).otherwise(1)\n",
    ")\n",
    "\n",
    "dft.select(\"Attrition_Flag\", \"target\").limit(5)"
   ]
  },
  {
   "cell_type": "markdown",
   "metadata": {},
   "source": [
    "### Проверка сбалансированности данных"
   ]
  },
  {
   "cell_type": "code",
   "execution_count": 38,
   "metadata": {
    "collapsed": false,
    "jupyter": {
     "outputs_hidden": false
    }
   },
   "outputs": [
    {
     "data": {
      "text/html": [
       "<table border='1'>\n",
       "<tr><th>target</th><th>count</th></tr>\n",
       "<tr><td>1</td><td>1627</td></tr>\n",
       "<tr><td>0</td><td>8500</td></tr>\n",
       "</table>\n"
      ],
      "text/plain": [
       "+------+-----+\n",
       "|target|count|\n",
       "+------+-----+\n",
       "|     1| 1627|\n",
       "|     0| 8500|\n",
       "+------+-----+"
      ]
     },
     "execution_count": 38,
     "metadata": {},
     "output_type": "execute_result"
    }
   ],
   "source": [
    "dft.groupBy(\"target\").count()"
   ]
  },
  {
   "cell_type": "markdown",
   "metadata": {},
   "source": [
    "### Oversampling"
   ]
  },
  {
   "cell_type": "code",
   "execution_count": 39,
   "metadata": {
    "collapsed": false,
    "jupyter": {
     "outputs_hidden": false
    }
   },
   "outputs": [
    {
     "data": {
      "text/plain": [
       "5"
      ]
     },
     "execution_count": 39,
     "metadata": {},
     "output_type": "execute_result"
    }
   ],
   "source": [
    "df1 = dft.filter(dft[\"target\"] == 1)\n",
    "df0 = dft.filter(dft[\"target\"] == 0)\n",
    "\n",
    "df1count = df1.count()\n",
    "df0count = df0.count()\n",
    "\n",
    "trate = int(df0count / df1count)\n",
    "trate"
   ]
  },
  {
   "cell_type": "markdown",
   "metadata": {},
   "source": [
    "### Как работает explode"
   ]
  },
  {
   "cell_type": "code",
   "execution_count": 41,
   "metadata": {},
   "outputs": [
    {
     "data": {
      "text/html": [
       "<div>\n",
       "<style scoped>\n",
       "    .dataframe tbody tr th:only-of-type {\n",
       "        vertical-align: middle;\n",
       "    }\n",
       "\n",
       "    .dataframe tbody tr th {\n",
       "        vertical-align: top;\n",
       "    }\n",
       "\n",
       "    .dataframe thead th {\n",
       "        text-align: right;\n",
       "    }\n",
       "</style>\n",
       "<table border=\"1\" class=\"dataframe\">\n",
       "  <thead>\n",
       "    <tr style=\"text-align: right;\">\n",
       "      <th></th>\n",
       "      <th>Name</th>\n",
       "      <th>Languages</th>\n",
       "    </tr>\n",
       "  </thead>\n",
       "  <tbody>\n",
       "    <tr>\n",
       "      <th>0</th>\n",
       "      <td>Peter</td>\n",
       "      <td>[python, C/C++, rust, golang]</td>\n",
       "    </tr>\n",
       "    <tr>\n",
       "      <th>1</th>\n",
       "      <td>Eugene</td>\n",
       "      <td>[java, scala, kotlin]</td>\n",
       "    </tr>\n",
       "  </tbody>\n",
       "</table>\n",
       "</div>"
      ],
      "text/plain": [
       "     Name                      Languages\n",
       "0   Peter  [python, C/C++, rust, golang]\n",
       "1  Eugene          [java, scala, kotlin]"
      ]
     },
     "execution_count": 41,
     "metadata": {},
     "output_type": "execute_result"
    }
   ],
   "source": [
    "test_df = spark.createDataFrame(\n",
    "    [\n",
    "        ['Peter',  ['python', 'C/C++', 'rust', 'golang']],\n",
    "        ['Eugene', ['java', 'scala', 'kotlin']]\n",
    "    ],\n",
    "    ['Name', 'Languages']\n",
    ")\n",
    "\n",
    "test_df.toPandas()"
   ]
  },
  {
   "cell_type": "code",
   "execution_count": 42,
   "metadata": {},
   "outputs": [
    {
     "data": {
      "text/html": [
       "<table border='1'>\n",
       "<tr><th>Name</th><th>col</th></tr>\n",
       "<tr><td>Peter</td><td>python</td></tr>\n",
       "<tr><td>Peter</td><td>C/C++</td></tr>\n",
       "<tr><td>Peter</td><td>rust</td></tr>\n",
       "<tr><td>Peter</td><td>golang</td></tr>\n",
       "<tr><td>Eugene</td><td>java</td></tr>\n",
       "<tr><td>Eugene</td><td>scala</td></tr>\n",
       "<tr><td>Eugene</td><td>kotlin</td></tr>\n",
       "</table>\n"
      ],
      "text/plain": [
       "+------+------+\n",
       "|  Name|   col|\n",
       "+------+------+\n",
       "| Peter|python|\n",
       "| Peter| C/C++|\n",
       "| Peter|  rust|\n",
       "| Peter|golang|\n",
       "|Eugene|  java|\n",
       "|Eugene| scala|\n",
       "|Eugene|kotlin|\n",
       "+------+------+"
      ]
     },
     "execution_count": 42,
     "metadata": {},
     "output_type": "execute_result"
    }
   ],
   "source": [
    "test_df.select('Name', f.explode('Languages'))"
   ]
  },
  {
   "cell_type": "code",
   "execution_count": 43,
   "metadata": {},
   "outputs": [
    {
     "data": {
      "text/html": [
       "<table border='1'>\n",
       "<tr><th>Name</th><th>Languages</th><th>Language</th></tr>\n",
       "<tr><td>Peter</td><td>[python, C/C++, r...</td><td>python</td></tr>\n",
       "<tr><td>Peter</td><td>[python, C/C++, r...</td><td>C/C++</td></tr>\n",
       "<tr><td>Peter</td><td>[python, C/C++, r...</td><td>rust</td></tr>\n",
       "<tr><td>Peter</td><td>[python, C/C++, r...</td><td>golang</td></tr>\n",
       "<tr><td>Eugene</td><td>[java, scala, kot...</td><td>java</td></tr>\n",
       "<tr><td>Eugene</td><td>[java, scala, kot...</td><td>scala</td></tr>\n",
       "<tr><td>Eugene</td><td>[java, scala, kot...</td><td>kotlin</td></tr>\n",
       "</table>\n"
      ],
      "text/plain": [
       "+------+--------------------+--------+\n",
       "|  Name|           Languages|Language|\n",
       "+------+--------------------+--------+\n",
       "| Peter|[python, C/C++, r...|  python|\n",
       "| Peter|[python, C/C++, r...|   C/C++|\n",
       "| Peter|[python, C/C++, r...|    rust|\n",
       "| Peter|[python, C/C++, r...|  golang|\n",
       "|Eugene|[java, scala, kot...|    java|\n",
       "|Eugene|[java, scala, kot...|   scala|\n",
       "|Eugene|[java, scala, kot...|  kotlin|\n",
       "+------+--------------------+--------+"
      ]
     },
     "execution_count": 43,
     "metadata": {},
     "output_type": "execute_result"
    }
   ],
   "source": [
    "test_df.withColumn('Language', f.explode('Languages'))"
   ]
  },
  {
   "cell_type": "markdown",
   "metadata": {},
   "source": [
    "### Oversampling через explode"
   ]
  },
  {
   "cell_type": "code",
   "execution_count": 44,
   "metadata": {
    "collapsed": false,
    "jupyter": {
     "outputs_hidden": false
    }
   },
   "outputs": [
    {
     "data": {
      "text/html": [
       "<table border='1'>\n",
       "<tr><th>Attrition_Flag</th><th>Customer_Age</th><th>Gender</th><th>Dependent_count</th><th>Education_Level</th><th>Marital_Status</th><th>Income_Category</th><th>Card_Category</th><th>Months_on_book</th><th>Total_Relationship_Count</th><th>Months_Inactive_12_mon</th><th>Contacts_Count_12_mon</th><th>Credit_Limit</th><th>Total_Revolving_Bal</th><th>Avg_Open_To_Buy</th><th>Total_Amt_Chng_Q4_Q1</th><th>Total_Trans_Amt</th><th>Total_Trans_Ct</th><th>Total_Ct_Chng_Q4_Q1</th><th>Avg_Utilization_Ratio</th><th>target</th></tr>\n",
       "<tr><td>Attrited Customer</td><td>62</td><td>F</td><td>0</td><td>Graduate</td><td>Married</td><td>Less than $40K</td><td>Blue</td><td>49</td><td>2</td><td>3</td><td>3</td><td>1438.3</td><td>0</td><td>1438.3</td><td>1.047</td><td>692</td><td>16</td><td>0.6</td><td>0.0</td><td>1</td></tr>\n",
       "<tr><td>Attrited Customer</td><td>62</td><td>F</td><td>0</td><td>Graduate</td><td>Married</td><td>Less than $40K</td><td>Blue</td><td>49</td><td>2</td><td>3</td><td>3</td><td>1438.3</td><td>0</td><td>1438.3</td><td>1.047</td><td>692</td><td>16</td><td>0.6</td><td>0.0</td><td>1</td></tr>\n",
       "<tr><td>Attrited Customer</td><td>62</td><td>F</td><td>0</td><td>Graduate</td><td>Married</td><td>Less than $40K</td><td>Blue</td><td>49</td><td>2</td><td>3</td><td>3</td><td>1438.3</td><td>0</td><td>1438.3</td><td>1.047</td><td>692</td><td>16</td><td>0.6</td><td>0.0</td><td>1</td></tr>\n",
       "<tr><td>Attrited Customer</td><td>62</td><td>F</td><td>0</td><td>Graduate</td><td>Married</td><td>Less than $40K</td><td>Blue</td><td>49</td><td>2</td><td>3</td><td>3</td><td>1438.3</td><td>0</td><td>1438.3</td><td>1.047</td><td>692</td><td>16</td><td>0.6</td><td>0.0</td><td>1</td></tr>\n",
       "<tr><td>Attrited Customer</td><td>62</td><td>F</td><td>0</td><td>Graduate</td><td>Married</td><td>Less than $40K</td><td>Blue</td><td>49</td><td>2</td><td>3</td><td>3</td><td>1438.3</td><td>0</td><td>1438.3</td><td>1.047</td><td>692</td><td>16</td><td>0.6</td><td>0.0</td><td>1</td></tr>\n",
       "<tr><td>Attrited Customer</td><td>66</td><td>F</td><td>0</td><td>Doctorate</td><td>Married</td><td>Unknown</td><td>Blue</td><td>56</td><td>5</td><td>4</td><td>3</td><td>7882.0</td><td>605</td><td>7277.0</td><td>1.052</td><td>704</td><td>16</td><td>0.143</td><td>0.077</td><td>1</td></tr>\n",
       "<tr><td>Attrited Customer</td><td>66</td><td>F</td><td>0</td><td>Doctorate</td><td>Married</td><td>Unknown</td><td>Blue</td><td>56</td><td>5</td><td>4</td><td>3</td><td>7882.0</td><td>605</td><td>7277.0</td><td>1.052</td><td>704</td><td>16</td><td>0.143</td><td>0.077</td><td>1</td></tr>\n",
       "<tr><td>Attrited Customer</td><td>66</td><td>F</td><td>0</td><td>Doctorate</td><td>Married</td><td>Unknown</td><td>Blue</td><td>56</td><td>5</td><td>4</td><td>3</td><td>7882.0</td><td>605</td><td>7277.0</td><td>1.052</td><td>704</td><td>16</td><td>0.143</td><td>0.077</td><td>1</td></tr>\n",
       "<tr><td>Attrited Customer</td><td>66</td><td>F</td><td>0</td><td>Doctorate</td><td>Married</td><td>Unknown</td><td>Blue</td><td>56</td><td>5</td><td>4</td><td>3</td><td>7882.0</td><td>605</td><td>7277.0</td><td>1.052</td><td>704</td><td>16</td><td>0.143</td><td>0.077</td><td>1</td></tr>\n",
       "<tr><td>Attrited Customer</td><td>66</td><td>F</td><td>0</td><td>Doctorate</td><td>Married</td><td>Unknown</td><td>Blue</td><td>56</td><td>5</td><td>4</td><td>3</td><td>7882.0</td><td>605</td><td>7277.0</td><td>1.052</td><td>704</td><td>16</td><td>0.143</td><td>0.077</td><td>1</td></tr>\n",
       "</table>\n"
      ],
      "text/plain": [
       "+-----------------+------------+------+---------------+---------------+--------------+---------------+-------------+--------------+------------------------+----------------------+---------------------+------------+-------------------+---------------+--------------------+---------------+--------------+-------------------+---------------------+------+\n",
       "|   Attrition_Flag|Customer_Age|Gender|Dependent_count|Education_Level|Marital_Status|Income_Category|Card_Category|Months_on_book|Total_Relationship_Count|Months_Inactive_12_mon|Contacts_Count_12_mon|Credit_Limit|Total_Revolving_Bal|Avg_Open_To_Buy|Total_Amt_Chng_Q4_Q1|Total_Trans_Amt|Total_Trans_Ct|Total_Ct_Chng_Q4_Q1|Avg_Utilization_Ratio|target|\n",
       "+-----------------+------------+------+---------------+---------------+--------------+---------------+-------------+--------------+------------------------+----------------------+---------------------+------------+-------------------+---------------+--------------------+---------------+--------------+-------------------+---------------------+------+\n",
       "|Attrited Customer|          62|     F|              0|       Graduate|       Married| Less than $40K|         Blue|            49|                       2|                     3|                    3|      1438.3|                  0|         1438.3|               1.047|            692|            16|                0.6|                  0.0|     1|\n",
       "|Attrited Customer|          62|     F|              0|       Graduate|       Married| Less than $40K|         Blue|            49|                       2|                     3|                    3|      1438.3|                  0|         1438.3|               1.047|            692|            16|                0.6|                  0.0|     1|\n",
       "|Attrited Customer|          62|     F|              0|       Graduate|       Married| Less than $40K|         Blue|            49|                       2|                     3|                    3|      1438.3|                  0|         1438.3|               1.047|            692|            16|                0.6|                  0.0|     1|\n",
       "|Attrited Customer|          62|     F|              0|       Graduate|       Married| Less than $40K|         Blue|            49|                       2|                     3|                    3|      1438.3|                  0|         1438.3|               1.047|            692|            16|                0.6|                  0.0|     1|\n",
       "|Attrited Customer|          62|     F|              0|       Graduate|       Married| Less than $40K|         Blue|            49|                       2|                     3|                    3|      1438.3|                  0|         1438.3|               1.047|            692|            16|                0.6|                  0.0|     1|\n",
       "|Attrited Customer|          66|     F|              0|      Doctorate|       Married|        Unknown|         Blue|            56|                       5|                     4|                    3|      7882.0|                605|         7277.0|               1.052|            704|            16|              0.143|                0.077|     1|\n",
       "|Attrited Customer|          66|     F|              0|      Doctorate|       Married|        Unknown|         Blue|            56|                       5|                     4|                    3|      7882.0|                605|         7277.0|               1.052|            704|            16|              0.143|                0.077|     1|\n",
       "|Attrited Customer|          66|     F|              0|      Doctorate|       Married|        Unknown|         Blue|            56|                       5|                     4|                    3|      7882.0|                605|         7277.0|               1.052|            704|            16|              0.143|                0.077|     1|\n",
       "|Attrited Customer|          66|     F|              0|      Doctorate|       Married|        Unknown|         Blue|            56|                       5|                     4|                    3|      7882.0|                605|         7277.0|               1.052|            704|            16|              0.143|                0.077|     1|\n",
       "|Attrited Customer|          66|     F|              0|      Doctorate|       Married|        Unknown|         Blue|            56|                       5|                     4|                    3|      7882.0|                605|         7277.0|               1.052|            704|            16|              0.143|                0.077|     1|\n",
       "+-----------------+------------+------+---------------+---------------+--------------+---------------+-------------+--------------+------------------------+----------------------+---------------------+------------+-------------------+---------------+--------------------+---------------+--------------+-------------------+---------------------+------+"
      ]
     },
     "execution_count": 44,
     "metadata": {},
     "output_type": "execute_result"
    }
   ],
   "source": [
    "df1Over = df1.withColumn(\n",
    "    \"dummy\", \n",
    "    f.explode(\n",
    "        f.array(*[f.lit(x) for x in range(trate)])\n",
    "    )\n",
    ").drop(\"dummy\")\n",
    "\n",
    "df1Over.limit(10)"
   ]
  },
  {
   "cell_type": "code",
   "execution_count": 45,
   "metadata": {
    "collapsed": false,
    "jupyter": {
     "outputs_hidden": false
    }
   },
   "outputs": [
    {
     "data": {
      "text/html": [
       "<table border='1'>\n",
       "<tr><th>target</th><th>count</th></tr>\n",
       "<tr><td>0</td><td>8500</td></tr>\n",
       "<tr><td>1</td><td>8135</td></tr>\n",
       "</table>\n"
      ],
      "text/plain": [
       "+------+-----+\n",
       "|target|count|\n",
       "+------+-----+\n",
       "|     0| 8500|\n",
       "|     1| 8135|\n",
       "+------+-----+"
      ]
     },
     "execution_count": 45,
     "metadata": {},
     "output_type": "execute_result"
    }
   ],
   "source": [
    "data = df0.unionAll(df1Over)\n",
    "data.groupBy(\"target\").count()"
   ]
  },
  {
   "cell_type": "markdown",
   "metadata": {},
   "source": [
    "## Работа с признаками"
   ]
  },
  {
   "cell_type": "markdown",
   "metadata": {},
   "source": [
    "### Проверим корреляции числовых признаков"
   ]
  },
  {
   "cell_type": "markdown",
   "metadata": {},
   "source": [
    "#### Вариант 1: DataFrameStatFunctions"
   ]
  },
  {
   "cell_type": "code",
   "execution_count": 46,
   "metadata": {
    "collapsed": false,
    "jupyter": {
     "outputs_hidden": false
    }
   },
   "outputs": [
    {
     "data": {
      "text/plain": [
       "[('Customer_Age', 'Dependent_count'),\n",
       " ('Customer_Age', 'Months_on_book'),\n",
       " ('Customer_Age', 'Total_Relationship_Count'),\n",
       " ('Customer_Age', 'Months_Inactive_12_mon'),\n",
       " ('Customer_Age', 'Contacts_Count_12_mon'),\n",
       " ('Customer_Age', 'Credit_Limit'),\n",
       " ('Customer_Age', 'Total_Revolving_Bal'),\n",
       " ('Customer_Age', 'Avg_Open_To_Buy'),\n",
       " ('Customer_Age', 'Total_Amt_Chng_Q4_Q1'),\n",
       " ('Customer_Age', 'Total_Trans_Amt'),\n",
       " ('Customer_Age', 'Total_Trans_Ct'),\n",
       " ('Customer_Age', 'Total_Ct_Chng_Q4_Q1'),\n",
       " ('Customer_Age', 'Avg_Utilization_Ratio'),\n",
       " ('Dependent_count', 'Months_on_book'),\n",
       " ('Dependent_count', 'Total_Relationship_Count'),\n",
       " ('Dependent_count', 'Months_Inactive_12_mon'),\n",
       " ('Dependent_count', 'Contacts_Count_12_mon'),\n",
       " ('Dependent_count', 'Credit_Limit'),\n",
       " ('Dependent_count', 'Total_Revolving_Bal'),\n",
       " ('Dependent_count', 'Avg_Open_To_Buy'),\n",
       " ('Dependent_count', 'Total_Amt_Chng_Q4_Q1'),\n",
       " ('Dependent_count', 'Total_Trans_Amt'),\n",
       " ('Dependent_count', 'Total_Trans_Ct'),\n",
       " ('Dependent_count', 'Total_Ct_Chng_Q4_Q1'),\n",
       " ('Dependent_count', 'Avg_Utilization_Ratio'),\n",
       " ('Months_on_book', 'Total_Relationship_Count'),\n",
       " ('Months_on_book', 'Months_Inactive_12_mon'),\n",
       " ('Months_on_book', 'Contacts_Count_12_mon'),\n",
       " ('Months_on_book', 'Credit_Limit'),\n",
       " ('Months_on_book', 'Total_Revolving_Bal'),\n",
       " ('Months_on_book', 'Avg_Open_To_Buy'),\n",
       " ('Months_on_book', 'Total_Amt_Chng_Q4_Q1'),\n",
       " ('Months_on_book', 'Total_Trans_Amt'),\n",
       " ('Months_on_book', 'Total_Trans_Ct'),\n",
       " ('Months_on_book', 'Total_Ct_Chng_Q4_Q1'),\n",
       " ('Months_on_book', 'Avg_Utilization_Ratio'),\n",
       " ('Total_Relationship_Count', 'Months_Inactive_12_mon'),\n",
       " ('Total_Relationship_Count', 'Contacts_Count_12_mon'),\n",
       " ('Total_Relationship_Count', 'Credit_Limit'),\n",
       " ('Total_Relationship_Count', 'Total_Revolving_Bal'),\n",
       " ('Total_Relationship_Count', 'Avg_Open_To_Buy'),\n",
       " ('Total_Relationship_Count', 'Total_Amt_Chng_Q4_Q1'),\n",
       " ('Total_Relationship_Count', 'Total_Trans_Amt'),\n",
       " ('Total_Relationship_Count', 'Total_Trans_Ct'),\n",
       " ('Total_Relationship_Count', 'Total_Ct_Chng_Q4_Q1'),\n",
       " ('Total_Relationship_Count', 'Avg_Utilization_Ratio'),\n",
       " ('Months_Inactive_12_mon', 'Contacts_Count_12_mon'),\n",
       " ('Months_Inactive_12_mon', 'Credit_Limit'),\n",
       " ('Months_Inactive_12_mon', 'Total_Revolving_Bal'),\n",
       " ('Months_Inactive_12_mon', 'Avg_Open_To_Buy'),\n",
       " ('Months_Inactive_12_mon', 'Total_Amt_Chng_Q4_Q1'),\n",
       " ('Months_Inactive_12_mon', 'Total_Trans_Amt'),\n",
       " ('Months_Inactive_12_mon', 'Total_Trans_Ct'),\n",
       " ('Months_Inactive_12_mon', 'Total_Ct_Chng_Q4_Q1'),\n",
       " ('Months_Inactive_12_mon', 'Avg_Utilization_Ratio'),\n",
       " ('Contacts_Count_12_mon', 'Credit_Limit'),\n",
       " ('Contacts_Count_12_mon', 'Total_Revolving_Bal'),\n",
       " ('Contacts_Count_12_mon', 'Avg_Open_To_Buy'),\n",
       " ('Contacts_Count_12_mon', 'Total_Amt_Chng_Q4_Q1'),\n",
       " ('Contacts_Count_12_mon', 'Total_Trans_Amt'),\n",
       " ('Contacts_Count_12_mon', 'Total_Trans_Ct'),\n",
       " ('Contacts_Count_12_mon', 'Total_Ct_Chng_Q4_Q1'),\n",
       " ('Contacts_Count_12_mon', 'Avg_Utilization_Ratio'),\n",
       " ('Credit_Limit', 'Total_Revolving_Bal'),\n",
       " ('Credit_Limit', 'Avg_Open_To_Buy'),\n",
       " ('Credit_Limit', 'Total_Amt_Chng_Q4_Q1'),\n",
       " ('Credit_Limit', 'Total_Trans_Amt'),\n",
       " ('Credit_Limit', 'Total_Trans_Ct'),\n",
       " ('Credit_Limit', 'Total_Ct_Chng_Q4_Q1'),\n",
       " ('Credit_Limit', 'Avg_Utilization_Ratio'),\n",
       " ('Total_Revolving_Bal', 'Avg_Open_To_Buy'),\n",
       " ('Total_Revolving_Bal', 'Total_Amt_Chng_Q4_Q1'),\n",
       " ('Total_Revolving_Bal', 'Total_Trans_Amt'),\n",
       " ('Total_Revolving_Bal', 'Total_Trans_Ct'),\n",
       " ('Total_Revolving_Bal', 'Total_Ct_Chng_Q4_Q1'),\n",
       " ('Total_Revolving_Bal', 'Avg_Utilization_Ratio'),\n",
       " ('Avg_Open_To_Buy', 'Total_Amt_Chng_Q4_Q1'),\n",
       " ('Avg_Open_To_Buy', 'Total_Trans_Amt'),\n",
       " ('Avg_Open_To_Buy', 'Total_Trans_Ct'),\n",
       " ('Avg_Open_To_Buy', 'Total_Ct_Chng_Q4_Q1'),\n",
       " ('Avg_Open_To_Buy', 'Avg_Utilization_Ratio'),\n",
       " ('Total_Amt_Chng_Q4_Q1', 'Total_Trans_Amt'),\n",
       " ('Total_Amt_Chng_Q4_Q1', 'Total_Trans_Ct'),\n",
       " ('Total_Amt_Chng_Q4_Q1', 'Total_Ct_Chng_Q4_Q1'),\n",
       " ('Total_Amt_Chng_Q4_Q1', 'Avg_Utilization_Ratio'),\n",
       " ('Total_Trans_Amt', 'Total_Trans_Ct'),\n",
       " ('Total_Trans_Amt', 'Total_Ct_Chng_Q4_Q1'),\n",
       " ('Total_Trans_Amt', 'Avg_Utilization_Ratio'),\n",
       " ('Total_Trans_Ct', 'Total_Ct_Chng_Q4_Q1'),\n",
       " ('Total_Trans_Ct', 'Avg_Utilization_Ratio'),\n",
       " ('Total_Ct_Chng_Q4_Q1', 'Avg_Utilization_Ratio')]"
      ]
     },
     "execution_count": 46,
     "metadata": {},
     "output_type": "execute_result"
    }
   ],
   "source": [
    "from itertools import combinations\n",
    "\n",
    "numericColumnsPairs = list(combinations(numericColumns, 2))\n",
    "numericColumnsPairs"
   ]
  },
  {
   "cell_type": "code",
   "execution_count": 49,
   "metadata": {
    "collapsed": false,
    "jupyter": {
     "outputs_hidden": false
    }
   },
   "outputs": [
    {
     "name": "stdout",
     "output_type": "stream",
     "text": [
      "CPU times: user 48.4 ms, sys: 6.12 ms, total: 54.5 ms\n",
      "Wall time: 9.39 s\n"
     ]
    }
   ],
   "source": [
    "%%time\n",
    "corr = list(\n",
    "    filter(\n",
    "        lambda x: abs(x[2]) > 0.6, \n",
    "        map(lambda x: (x[0], x[1], data.stat.corr(x[0], x[1])), numericColumnsPairs)\n",
    "    )\n",
    ")"
   ]
  },
  {
   "cell_type": "code",
   "execution_count": 50,
   "metadata": {
    "collapsed": false,
    "jupyter": {
     "outputs_hidden": false
    }
   },
   "outputs": [
    {
     "name": "stdout",
     "output_type": "stream",
     "text": [
      "             Credit_Limit           Avg_Open_To_Buy\t0.9952040726156255\n",
      "          Total_Trans_Amt            Total_Trans_Ct\t0.8053901681243805\n",
      "             Customer_Age            Months_on_book\t0.7805047706891142\n",
      "      Total_Revolving_Bal     Avg_Utilization_Ratio\t0.6946855441968229\n"
     ]
    }
   ],
   "source": [
    "corr.sort(key=lambda x: x[2])\n",
    "for i in reversed(corr):\n",
    "    print(f\"{i[0]:>25} {i[1]:>25}\\t{i[2]}\")"
   ]
  },
  {
   "cell_type": "markdown",
   "metadata": {},
   "source": [
    "#### Вариант 2: Correlation"
   ]
  },
  {
   "cell_type": "code",
   "execution_count": 53,
   "metadata": {},
   "outputs": [
    {
     "name": "stdout",
     "output_type": "stream",
     "text": [
      "CPU times: user 5.23 ms, sys: 3.49 ms, total: 8.71 ms\n",
      "Wall time: 612 ms\n"
     ]
    }
   ],
   "source": [
    "%%time\n",
    "from pyspark.ml.feature import VectorAssembler\n",
    "from pyspark.ml.stat import Correlation\n",
    "\n",
    "numericAssembler = VectorAssembler()\\\n",
    "    .setInputCols(numericColumns)\\\n",
    "    .setOutputCol(\"features\")\n",
    "\n",
    "numeric = numericAssembler.transform(data)\n",
    "matrix = Correlation.corr(numeric, \"features\").head().asDict()['pearson(features)'].toArray().tolist()"
   ]
  },
  {
   "cell_type": "code",
   "execution_count": 64,
   "metadata": {},
   "outputs": [
    {
     "data": {
      "text/html": [
       "<table border='1'>\n",
       "<tr><th>Attrition_Flag</th><th>Customer_Age</th><th>Gender</th><th>Dependent_count</th><th>Education_Level</th><th>Marital_Status</th><th>Income_Category</th><th>Card_Category</th><th>Months_on_book</th><th>Total_Relationship_Count</th><th>Months_Inactive_12_mon</th><th>Contacts_Count_12_mon</th><th>Credit_Limit</th><th>Total_Revolving_Bal</th><th>Avg_Open_To_Buy</th><th>Total_Amt_Chng_Q4_Q1</th><th>Total_Trans_Amt</th><th>Total_Trans_Ct</th><th>Total_Ct_Chng_Q4_Q1</th><th>Avg_Utilization_Ratio</th><th>target</th><th>features</th></tr>\n",
       "<tr><td>Existing Customer</td><td>45</td><td>M</td><td>3</td><td>High School</td><td>Married</td><td>$60K - $80K</td><td>Blue</td><td>39</td><td>5</td><td>1</td><td>3</td><td>12691.0</td><td>777</td><td>11914.0</td><td>1.335</td><td>1144</td><td>42</td><td>1.625</td><td>0.061</td><td>0</td><td>[45.0,3.0,39.0,5....</td></tr>\n",
       "<tr><td>Existing Customer</td><td>49</td><td>F</td><td>5</td><td>Graduate</td><td>Single</td><td>Less than $40K</td><td>Blue</td><td>44</td><td>6</td><td>1</td><td>2</td><td>8256.0</td><td>864</td><td>7392.0</td><td>1.541</td><td>1291</td><td>33</td><td>3.714</td><td>0.105</td><td>0</td><td>[49.0,5.0,44.0,6....</td></tr>\n",
       "<tr><td>Existing Customer</td><td>51</td><td>M</td><td>3</td><td>Graduate</td><td>Married</td><td>$80K - $120K</td><td>Blue</td><td>36</td><td>4</td><td>1</td><td>0</td><td>3418.0</td><td>0</td><td>3418.0</td><td>2.594</td><td>1887</td><td>20</td><td>2.333</td><td>0.0</td><td>0</td><td>[51.0,3.0,36.0,4....</td></tr>\n",
       "<tr><td>Existing Customer</td><td>40</td><td>F</td><td>4</td><td>High School</td><td>Unknown</td><td>Less than $40K</td><td>Blue</td><td>34</td><td>3</td><td>4</td><td>1</td><td>3313.0</td><td>2517</td><td>796.0</td><td>1.405</td><td>1171</td><td>20</td><td>2.333</td><td>0.76</td><td>0</td><td>[40.0,4.0,34.0,3....</td></tr>\n",
       "<tr><td>Existing Customer</td><td>40</td><td>M</td><td>3</td><td>Uneducated</td><td>Married</td><td>$60K - $80K</td><td>Blue</td><td>21</td><td>5</td><td>1</td><td>0</td><td>4716.0</td><td>0</td><td>4716.0</td><td>2.175</td><td>816</td><td>28</td><td>2.5</td><td>0.0</td><td>0</td><td>[40.0,3.0,21.0,5....</td></tr>\n",
       "<tr><td>Existing Customer</td><td>44</td><td>M</td><td>2</td><td>Graduate</td><td>Married</td><td>$40K - $60K</td><td>Blue</td><td>36</td><td>3</td><td>1</td><td>2</td><td>4010.0</td><td>1247</td><td>2763.0</td><td>1.376</td><td>1088</td><td>24</td><td>0.846</td><td>0.311</td><td>0</td><td>[44.0,2.0,36.0,3....</td></tr>\n",
       "<tr><td>Existing Customer</td><td>51</td><td>M</td><td>4</td><td>Unknown</td><td>Married</td><td>$120K +</td><td>Gold</td><td>46</td><td>6</td><td>1</td><td>3</td><td>34516.0</td><td>2264</td><td>32252.0</td><td>1.975</td><td>1330</td><td>31</td><td>0.722</td><td>0.066</td><td>0</td><td>[51.0,4.0,46.0,6....</td></tr>\n",
       "<tr><td>Existing Customer</td><td>32</td><td>M</td><td>0</td><td>High School</td><td>Unknown</td><td>$60K - $80K</td><td>Silver</td><td>27</td><td>2</td><td>2</td><td>2</td><td>29081.0</td><td>1396</td><td>27685.0</td><td>2.204</td><td>1538</td><td>36</td><td>0.714</td><td>0.048</td><td>0</td><td>[32.0,0.0,27.0,2....</td></tr>\n",
       "<tr><td>Existing Customer</td><td>37</td><td>M</td><td>3</td><td>Uneducated</td><td>Single</td><td>$60K - $80K</td><td>Blue</td><td>36</td><td>5</td><td>2</td><td>0</td><td>22352.0</td><td>2517</td><td>19835.0</td><td>3.355</td><td>1350</td><td>24</td><td>1.182</td><td>0.113</td><td>0</td><td>[37.0,3.0,36.0,5....</td></tr>\n",
       "<tr><td>Existing Customer</td><td>48</td><td>M</td><td>2</td><td>Graduate</td><td>Single</td><td>$80K - $120K</td><td>Blue</td><td>36</td><td>6</td><td>3</td><td>3</td><td>11656.0</td><td>1677</td><td>9979.0</td><td>1.524</td><td>1441</td><td>32</td><td>0.882</td><td>0.144</td><td>0</td><td>[48.0,2.0,36.0,6....</td></tr>\n",
       "</table>\n"
      ],
      "text/plain": [
       "+-----------------+------------+------+---------------+---------------+--------------+---------------+-------------+--------------+------------------------+----------------------+---------------------+------------+-------------------+---------------+--------------------+---------------+--------------+-------------------+---------------------+------+--------------------+\n",
       "|   Attrition_Flag|Customer_Age|Gender|Dependent_count|Education_Level|Marital_Status|Income_Category|Card_Category|Months_on_book|Total_Relationship_Count|Months_Inactive_12_mon|Contacts_Count_12_mon|Credit_Limit|Total_Revolving_Bal|Avg_Open_To_Buy|Total_Amt_Chng_Q4_Q1|Total_Trans_Amt|Total_Trans_Ct|Total_Ct_Chng_Q4_Q1|Avg_Utilization_Ratio|target|            features|\n",
       "+-----------------+------------+------+---------------+---------------+--------------+---------------+-------------+--------------+------------------------+----------------------+---------------------+------------+-------------------+---------------+--------------------+---------------+--------------+-------------------+---------------------+------+--------------------+\n",
       "|Existing Customer|          45|     M|              3|    High School|       Married|    $60K - $80K|         Blue|            39|                       5|                     1|                    3|     12691.0|                777|        11914.0|               1.335|           1144|            42|              1.625|                0.061|     0|[45.0,3.0,39.0,5....|\n",
       "|Existing Customer|          49|     F|              5|       Graduate|        Single| Less than $40K|         Blue|            44|                       6|                     1|                    2|      8256.0|                864|         7392.0|               1.541|           1291|            33|              3.714|                0.105|     0|[49.0,5.0,44.0,6....|\n",
       "|Existing Customer|          51|     M|              3|       Graduate|       Married|   $80K - $120K|         Blue|            36|                       4|                     1|                    0|      3418.0|                  0|         3418.0|               2.594|           1887|            20|              2.333|                  0.0|     0|[51.0,3.0,36.0,4....|\n",
       "|Existing Customer|          40|     F|              4|    High School|       Unknown| Less than $40K|         Blue|            34|                       3|                     4|                    1|      3313.0|               2517|          796.0|               1.405|           1171|            20|              2.333|                 0.76|     0|[40.0,4.0,34.0,3....|\n",
       "|Existing Customer|          40|     M|              3|     Uneducated|       Married|    $60K - $80K|         Blue|            21|                       5|                     1|                    0|      4716.0|                  0|         4716.0|               2.175|            816|            28|                2.5|                  0.0|     0|[40.0,3.0,21.0,5....|\n",
       "|Existing Customer|          44|     M|              2|       Graduate|       Married|    $40K - $60K|         Blue|            36|                       3|                     1|                    2|      4010.0|               1247|         2763.0|               1.376|           1088|            24|              0.846|                0.311|     0|[44.0,2.0,36.0,3....|\n",
       "|Existing Customer|          51|     M|              4|        Unknown|       Married|        $120K +|         Gold|            46|                       6|                     1|                    3|     34516.0|               2264|        32252.0|               1.975|           1330|            31|              0.722|                0.066|     0|[51.0,4.0,46.0,6....|\n",
       "|Existing Customer|          32|     M|              0|    High School|       Unknown|    $60K - $80K|       Silver|            27|                       2|                     2|                    2|     29081.0|               1396|        27685.0|               2.204|           1538|            36|              0.714|                0.048|     0|[32.0,0.0,27.0,2....|\n",
       "|Existing Customer|          37|     M|              3|     Uneducated|        Single|    $60K - $80K|         Blue|            36|                       5|                     2|                    0|     22352.0|               2517|        19835.0|               3.355|           1350|            24|              1.182|                0.113|     0|[37.0,3.0,36.0,5....|\n",
       "|Existing Customer|          48|     M|              2|       Graduate|        Single|   $80K - $120K|         Blue|            36|                       6|                     3|                    3|     11656.0|               1677|         9979.0|               1.524|           1441|            32|              0.882|                0.144|     0|[48.0,2.0,36.0,6....|\n",
       "+-----------------+------------+------+---------------+---------------+--------------+---------------+-------------+--------------+------------------------+----------------------+---------------------+------------+-------------------+---------------+--------------------+---------------+--------------+-------------------+---------------------+------+--------------------+"
      ]
     },
     "execution_count": 64,
     "metadata": {},
     "output_type": "execute_result"
    }
   ],
   "source": [
    "numeric.limit(10)"
   ]
  },
  {
   "cell_type": "code",
   "execution_count": 65,
   "metadata": {},
   "outputs": [
    {
     "data": {
      "text/plain": [
       "[[1.0,\n",
       "  -0.13575515707704905,\n",
       "  0.780504770689084,\n",
       "  -0.026525310066417403,\n",
       "  0.13116552936201348,\n",
       "  -0.019944405497176732,\n",
       "  0.016657097778483475,\n",
       "  -0.002841536593767456,\n",
       "  0.016929170875654043,\n",
       "  -0.020559135165498028,\n",
       "  -0.06586475313340744,\n",
       "  -0.07815083273365253,\n",
       "  -0.016568818333932693,\n",
       "  -0.010985827540562288],\n",
       " [-0.13575515707704905,\n",
       "  1.0,\n",
       "  -0.11728062823959522,\n",
       "  -0.03266417786351196,\n",
       "  -0.010657501150598976,\n",
       "  -0.02566496168277401,\n",
       "  0.06002070339266479,\n",
       "  0.0018723592997836101,\n",
       "  0.05981512203616065,\n",
       "  -0.04794367154504479,\n",
       "  0.00700430540503166,\n",
       "  0.025513406218718206,\n",
       "  -0.019666216088456825,\n",
       "  -0.03300255953641679]]"
      ]
     },
     "execution_count": 65,
     "metadata": {},
     "output_type": "execute_result"
    }
   ],
   "source": [
    "matrix[:2]"
   ]
  },
  {
   "cell_type": "code",
   "execution_count": 66,
   "metadata": {},
   "outputs": [],
   "source": [
    "corr2 = []\n",
    "used = set()\n",
    "for i in range(len(numericColumns)):\n",
    "    for j in range(len(numericColumns)):\n",
    "        if i != j and matrix[i][j] > 0.6:\n",
    "            key = ''.join(sorted((numericColumns[i], numericColumns[j])))\n",
    "            if key not in used:\n",
    "                corr2.append((numericColumns[i], numericColumns[j], matrix[i][j]))\n",
    "                used.add(key)\n",
    "corr2.sort(key=lambda x: x[2])"
   ]
  },
  {
   "cell_type": "code",
   "execution_count": 67,
   "metadata": {},
   "outputs": [
    {
     "data": {
      "text/plain": [
       "[('Total_Revolving_Bal', 'Avg_Utilization_Ratio', 0.6946855441968229),\n",
       " ('Customer_Age', 'Months_on_book', 0.7805047706891142),\n",
       " ('Total_Trans_Amt', 'Total_Trans_Ct', 0.8053901681243805),\n",
       " ('Credit_Limit', 'Avg_Open_To_Buy', 0.9952040726156255)]"
      ]
     },
     "execution_count": 67,
     "metadata": {},
     "output_type": "execute_result"
    }
   ],
   "source": [
    "corr"
   ]
  },
  {
   "cell_type": "code",
   "execution_count": 68,
   "metadata": {},
   "outputs": [
    {
     "data": {
      "text/plain": [
       "[('Total_Revolving_Bal', 'Avg_Utilization_Ratio', 0.6946855441968222),\n",
       " ('Customer_Age', 'Months_on_book', 0.780504770689084),\n",
       " ('Total_Trans_Amt', 'Total_Trans_Ct', 0.8053901681243786),\n",
       " ('Credit_Limit', 'Avg_Open_To_Buy', 0.9952040726156179)]"
      ]
     },
     "execution_count": 68,
     "metadata": {},
     "output_type": "execute_result"
    }
   ],
   "source": [
    "corr2"
   ]
  },
  {
   "cell_type": "code",
   "execution_count": 69,
   "metadata": {},
   "outputs": [
    {
     "data": {
      "text/plain": [
       "True"
      ]
     },
     "execution_count": 69,
     "metadata": {},
     "output_type": "execute_result"
    }
   ],
   "source": [
    "not bool(set(corr).intersection(corr2))"
   ]
  },
  {
   "cell_type": "markdown",
   "metadata": {},
   "source": [
    "#### Оставляем числовые колонки с низкой кореляцией"
   ]
  },
  {
   "cell_type": "code",
   "execution_count": 70,
   "metadata": {},
   "outputs": [
    {
     "data": {
      "text/plain": [
       "['Total_Trans_Amt',\n",
       " 'Customer_Age',\n",
       " 'Total_Relationship_Count',\n",
       " 'Months_Inactive_12_mon',\n",
       " 'Total_Revolving_Bal',\n",
       " 'Total_Amt_Chng_Q4_Q1',\n",
       " 'Dependent_count',\n",
       " 'Total_Ct_Chng_Q4_Q1',\n",
       " 'Contacts_Count_12_mon',\n",
       " 'Credit_Limit']"
      ]
     },
     "execution_count": 70,
     "metadata": {},
     "output_type": "execute_result"
    }
   ],
   "source": [
    "numericColumnsFinal = list(\n",
    "    set(numericColumns) - set(map(lambda x: x[1], corr))\n",
    ")\n",
    "\n",
    "numericColumnsFinal"
   ]
  },
  {
   "cell_type": "markdown",
   "metadata": {},
   "source": [
    "### Категориальные признаки"
   ]
  },
  {
   "cell_type": "markdown",
   "metadata": {},
   "source": [
    "#### Индексируем строковые колонки"
   ]
  },
  {
   "cell_type": "code",
   "execution_count": 71,
   "metadata": {},
   "outputs": [
    {
     "data": {
      "text/html": [
       "<table border='1'>\n",
       "<tr><th>Education_Level</th><th>Education_Level_Indexed</th><th>Marital_Status</th><th>Marital_Status_Indexed</th></tr>\n",
       "<tr><td>High School</td><td>1.0</td><td>Married</td><td>0.0</td></tr>\n",
       "<tr><td>Graduate</td><td>0.0</td><td>Single</td><td>1.0</td></tr>\n",
       "<tr><td>Graduate</td><td>0.0</td><td>Married</td><td>0.0</td></tr>\n",
       "<tr><td>High School</td><td>1.0</td><td>Unknown</td><td>2.0</td></tr>\n",
       "<tr><td>Uneducated</td><td>3.0</td><td>Married</td><td>0.0</td></tr>\n",
       "<tr><td>Graduate</td><td>0.0</td><td>Married</td><td>0.0</td></tr>\n",
       "<tr><td>Unknown</td><td>2.0</td><td>Married</td><td>0.0</td></tr>\n",
       "<tr><td>High School</td><td>1.0</td><td>Unknown</td><td>2.0</td></tr>\n",
       "<tr><td>Uneducated</td><td>3.0</td><td>Single</td><td>1.0</td></tr>\n",
       "<tr><td>Graduate</td><td>0.0</td><td>Single</td><td>1.0</td></tr>\n",
       "</table>\n"
      ],
      "text/plain": [
       "+---------------+-----------------------+--------------+----------------------+\n",
       "|Education_Level|Education_Level_Indexed|Marital_Status|Marital_Status_Indexed|\n",
       "+---------------+-----------------------+--------------+----------------------+\n",
       "|    High School|                    1.0|       Married|                   0.0|\n",
       "|       Graduate|                    0.0|        Single|                   1.0|\n",
       "|       Graduate|                    0.0|       Married|                   0.0|\n",
       "|    High School|                    1.0|       Unknown|                   2.0|\n",
       "|     Uneducated|                    3.0|       Married|                   0.0|\n",
       "|       Graduate|                    0.0|       Married|                   0.0|\n",
       "|        Unknown|                    2.0|       Married|                   0.0|\n",
       "|    High School|                    1.0|       Unknown|                   2.0|\n",
       "|     Uneducated|                    3.0|        Single|                   1.0|\n",
       "|       Graduate|                    0.0|        Single|                   1.0|\n",
       "+---------------+-----------------------+--------------+----------------------+"
      ]
     },
     "execution_count": 71,
     "metadata": {},
     "output_type": "execute_result"
    }
   ],
   "source": [
    "from pyspark.ml.feature import StringIndexer\n",
    "\n",
    "stringColumns = list(\n",
    "    filter(\n",
    "        lambda x: x != \"Attrition_Flag\",\n",
    "        map(lambda x: x[0], filter(lambda x: x[1] == \"string\", data.dtypes))\n",
    "    )\n",
    ")\n",
    "\n",
    "stringColumnsIndexed = list(map(lambda x: x + \"_Indexed\", stringColumns))\n",
    "\n",
    "indexer = StringIndexer()\\\n",
    "    .setInputCols(stringColumns)\\\n",
    "    .setOutputCols(stringColumnsIndexed)\n",
    "\n",
    "indexed = indexer.fit(data).transform(data)\n",
    "\n",
    "c1 = 'Education_Level'\n",
    "c2 = 'Marital_Status'\n",
    "indexed.select(c1, f'{c1}_Indexed', c2, f'{c2}_Indexed').limit(10)"
   ]
  },
  {
   "cell_type": "code",
   "execution_count": 76,
   "metadata": {},
   "outputs": [
    {
     "data": {
      "text/html": [
       "<table border='1'>\n",
       "<tr><th>Education_Level</th><th>Education_Level_Indexed</th><th>count</th></tr>\n",
       "<tr><td>High School</td><td>1.0</td><td>3237</td></tr>\n",
       "<tr><td>Uneducated</td><td>3.0</td><td>2435</td></tr>\n",
       "<tr><td>Doctorate</td><td>6.0</td><td>831</td></tr>\n",
       "<tr><td>Unknown</td><td>2.0</td><td>2543</td></tr>\n",
       "<tr><td>College</td><td>4.0</td><td>1629</td></tr>\n",
       "<tr><td>Post-Graduate</td><td>5.0</td><td>884</td></tr>\n",
       "<tr><td>Graduate</td><td>0.0</td><td>5076</td></tr>\n",
       "</table>\n"
      ],
      "text/plain": [
       "+---------------+-----------------------+-----+\n",
       "|Education_Level|Education_Level_Indexed|count|\n",
       "+---------------+-----------------------+-----+\n",
       "|    High School|                    1.0| 3237|\n",
       "|     Uneducated|                    3.0| 2435|\n",
       "|      Doctorate|                    6.0|  831|\n",
       "|        Unknown|                    2.0| 2543|\n",
       "|        College|                    4.0| 1629|\n",
       "|  Post-Graduate|                    5.0|  884|\n",
       "|       Graduate|                    0.0| 5076|\n",
       "+---------------+-----------------------+-----+"
      ]
     },
     "execution_count": 76,
     "metadata": {},
     "output_type": "execute_result"
    }
   ],
   "source": [
    "indexed.groupBy(c1, f'{c1}_Indexed').count()"
   ]
  },
  {
   "cell_type": "code",
   "execution_count": 77,
   "metadata": {},
   "outputs": [
    {
     "data": {
      "text/html": [
       "<table border='1'>\n",
       "<tr><th>Marital_Status</th><th>Marital_Status_Indexed</th><th>count</th></tr>\n",
       "<tr><td>Unknown</td><td>2.0</td><td>1265</td></tr>\n",
       "<tr><td>Divorced</td><td>3.0</td><td>1232</td></tr>\n",
       "<tr><td>Married</td><td>0.0</td><td>7523</td></tr>\n",
       "<tr><td>Single</td><td>1.0</td><td>6615</td></tr>\n",
       "</table>\n"
      ],
      "text/plain": [
       "+--------------+----------------------+-----+\n",
       "|Marital_Status|Marital_Status_Indexed|count|\n",
       "+--------------+----------------------+-----+\n",
       "|       Unknown|                   2.0| 1265|\n",
       "|      Divorced|                   3.0| 1232|\n",
       "|       Married|                   0.0| 7523|\n",
       "|        Single|                   1.0| 6615|\n",
       "+--------------+----------------------+-----+"
      ]
     },
     "execution_count": 77,
     "metadata": {},
     "output_type": "execute_result"
    }
   ],
   "source": [
    "indexed.groupBy(c2, f'{c2}_Indexed').count()"
   ]
  },
  {
   "cell_type": "markdown",
   "metadata": {},
   "source": [
    "#### Кодируем категориальные признаки"
   ]
  },
  {
   "cell_type": "code",
   "execution_count": 78,
   "metadata": {},
   "outputs": [
    {
     "data": {
      "text/html": [
       "<table border='1'>\n",
       "<tr><th>Attrition_Flag</th><th>Customer_Age</th><th>Gender</th><th>Dependent_count</th><th>Education_Level</th><th>Marital_Status</th><th>Income_Category</th><th>Card_Category</th><th>Months_on_book</th><th>Total_Relationship_Count</th><th>Months_Inactive_12_mon</th><th>Contacts_Count_12_mon</th><th>Credit_Limit</th><th>Total_Revolving_Bal</th><th>Avg_Open_To_Buy</th><th>Total_Amt_Chng_Q4_Q1</th><th>Total_Trans_Amt</th><th>Total_Trans_Ct</th><th>Total_Ct_Chng_Q4_Q1</th><th>Avg_Utilization_Ratio</th><th>target</th><th>Gender_Indexed</th><th>Education_Level_Indexed</th><th>Marital_Status_Indexed</th><th>Income_Category_Indexed</th><th>Card_Category_Indexed</th><th>Gender_Indexed_Coded</th><th>Education_Level_Indexed_Coded</th><th>Marital_Status_Indexed_Coded</th><th>Income_Category_Indexed_Coded</th><th>Card_Category_Indexed_Coded</th></tr>\n",
       "<tr><td>Existing Customer</td><td>45</td><td>M</td><td>3</td><td>High School</td><td>Married</td><td>$60K - $80K</td><td>Blue</td><td>39</td><td>5</td><td>1</td><td>3</td><td>12691.0</td><td>777</td><td>11914.0</td><td>1.335</td><td>1144</td><td>42</td><td>1.625</td><td>0.061</td><td>0</td><td>1.0</td><td>1.0</td><td>0.0</td><td>3.0</td><td>0.0</td><td>(1,[],[])</td><td>(6,[1],[1.0])</td><td>(3,[0],[1.0])</td><td>(5,[3],[1.0])</td><td>(3,[0],[1.0])</td></tr>\n",
       "<tr><td>Existing Customer</td><td>49</td><td>F</td><td>5</td><td>Graduate</td><td>Single</td><td>Less than $40K</td><td>Blue</td><td>44</td><td>6</td><td>1</td><td>2</td><td>8256.0</td><td>864</td><td>7392.0</td><td>1.541</td><td>1291</td><td>33</td><td>3.714</td><td>0.105</td><td>0</td><td>0.0</td><td>0.0</td><td>1.0</td><td>0.0</td><td>0.0</td><td>(1,[0],[1.0])</td><td>(6,[0],[1.0])</td><td>(3,[1],[1.0])</td><td>(5,[0],[1.0])</td><td>(3,[0],[1.0])</td></tr>\n",
       "<tr><td>Existing Customer</td><td>51</td><td>M</td><td>3</td><td>Graduate</td><td>Married</td><td>$80K - $120K</td><td>Blue</td><td>36</td><td>4</td><td>1</td><td>0</td><td>3418.0</td><td>0</td><td>3418.0</td><td>2.594</td><td>1887</td><td>20</td><td>2.333</td><td>0.0</td><td>0</td><td>1.0</td><td>0.0</td><td>0.0</td><td>2.0</td><td>0.0</td><td>(1,[],[])</td><td>(6,[0],[1.0])</td><td>(3,[0],[1.0])</td><td>(5,[2],[1.0])</td><td>(3,[0],[1.0])</td></tr>\n",
       "<tr><td>Existing Customer</td><td>40</td><td>F</td><td>4</td><td>High School</td><td>Unknown</td><td>Less than $40K</td><td>Blue</td><td>34</td><td>3</td><td>4</td><td>1</td><td>3313.0</td><td>2517</td><td>796.0</td><td>1.405</td><td>1171</td><td>20</td><td>2.333</td><td>0.76</td><td>0</td><td>0.0</td><td>1.0</td><td>2.0</td><td>0.0</td><td>0.0</td><td>(1,[0],[1.0])</td><td>(6,[1],[1.0])</td><td>(3,[2],[1.0])</td><td>(5,[0],[1.0])</td><td>(3,[0],[1.0])</td></tr>\n",
       "<tr><td>Existing Customer</td><td>40</td><td>M</td><td>3</td><td>Uneducated</td><td>Married</td><td>$60K - $80K</td><td>Blue</td><td>21</td><td>5</td><td>1</td><td>0</td><td>4716.0</td><td>0</td><td>4716.0</td><td>2.175</td><td>816</td><td>28</td><td>2.5</td><td>0.0</td><td>0</td><td>1.0</td><td>3.0</td><td>0.0</td><td>3.0</td><td>0.0</td><td>(1,[],[])</td><td>(6,[3],[1.0])</td><td>(3,[0],[1.0])</td><td>(5,[3],[1.0])</td><td>(3,[0],[1.0])</td></tr>\n",
       "</table>\n"
      ],
      "text/plain": [
       "+-----------------+------------+------+---------------+---------------+--------------+---------------+-------------+--------------+------------------------+----------------------+---------------------+------------+-------------------+---------------+--------------------+---------------+--------------+-------------------+---------------------+------+--------------+-----------------------+----------------------+-----------------------+---------------------+--------------------+-----------------------------+----------------------------+-----------------------------+---------------------------+\n",
       "|   Attrition_Flag|Customer_Age|Gender|Dependent_count|Education_Level|Marital_Status|Income_Category|Card_Category|Months_on_book|Total_Relationship_Count|Months_Inactive_12_mon|Contacts_Count_12_mon|Credit_Limit|Total_Revolving_Bal|Avg_Open_To_Buy|Total_Amt_Chng_Q4_Q1|Total_Trans_Amt|Total_Trans_Ct|Total_Ct_Chng_Q4_Q1|Avg_Utilization_Ratio|target|Gender_Indexed|Education_Level_Indexed|Marital_Status_Indexed|Income_Category_Indexed|Card_Category_Indexed|Gender_Indexed_Coded|Education_Level_Indexed_Coded|Marital_Status_Indexed_Coded|Income_Category_Indexed_Coded|Card_Category_Indexed_Coded|\n",
       "+-----------------+------------+------+---------------+---------------+--------------+---------------+-------------+--------------+------------------------+----------------------+---------------------+------------+-------------------+---------------+--------------------+---------------+--------------+-------------------+---------------------+------+--------------+-----------------------+----------------------+-----------------------+---------------------+--------------------+-----------------------------+----------------------------+-----------------------------+---------------------------+\n",
       "|Existing Customer|          45|     M|              3|    High School|       Married|    $60K - $80K|         Blue|            39|                       5|                     1|                    3|     12691.0|                777|        11914.0|               1.335|           1144|            42|              1.625|                0.061|     0|           1.0|                    1.0|                   0.0|                    3.0|                  0.0|           (1,[],[])|                (6,[1],[1.0])|               (3,[0],[1.0])|                (5,[3],[1.0])|              (3,[0],[1.0])|\n",
       "|Existing Customer|          49|     F|              5|       Graduate|        Single| Less than $40K|         Blue|            44|                       6|                     1|                    2|      8256.0|                864|         7392.0|               1.541|           1291|            33|              3.714|                0.105|     0|           0.0|                    0.0|                   1.0|                    0.0|                  0.0|       (1,[0],[1.0])|                (6,[0],[1.0])|               (3,[1],[1.0])|                (5,[0],[1.0])|              (3,[0],[1.0])|\n",
       "|Existing Customer|          51|     M|              3|       Graduate|       Married|   $80K - $120K|         Blue|            36|                       4|                     1|                    0|      3418.0|                  0|         3418.0|               2.594|           1887|            20|              2.333|                  0.0|     0|           1.0|                    0.0|                   0.0|                    2.0|                  0.0|           (1,[],[])|                (6,[0],[1.0])|               (3,[0],[1.0])|                (5,[2],[1.0])|              (3,[0],[1.0])|\n",
       "|Existing Customer|          40|     F|              4|    High School|       Unknown| Less than $40K|         Blue|            34|                       3|                     4|                    1|      3313.0|               2517|          796.0|               1.405|           1171|            20|              2.333|                 0.76|     0|           0.0|                    1.0|                   2.0|                    0.0|                  0.0|       (1,[0],[1.0])|                (6,[1],[1.0])|               (3,[2],[1.0])|                (5,[0],[1.0])|              (3,[0],[1.0])|\n",
       "|Existing Customer|          40|     M|              3|     Uneducated|       Married|    $60K - $80K|         Blue|            21|                       5|                     1|                    0|      4716.0|                  0|         4716.0|               2.175|            816|            28|                2.5|                  0.0|     0|           1.0|                    3.0|                   0.0|                    3.0|                  0.0|           (1,[],[])|                (6,[3],[1.0])|               (3,[0],[1.0])|                (5,[3],[1.0])|              (3,[0],[1.0])|\n",
       "+-----------------+------------+------+---------------+---------------+--------------+---------------+-------------+--------------+------------------------+----------------------+---------------------+------------+-------------------+---------------+--------------------+---------------+--------------+-------------------+---------------------+------+--------------+-----------------------+----------------------+-----------------------+---------------------+--------------------+-----------------------------+----------------------------+-----------------------------+---------------------------+"
      ]
     },
     "execution_count": 78,
     "metadata": {},
     "output_type": "execute_result"
    }
   ],
   "source": [
    "from pyspark.ml.feature import OneHotEncoder\n",
    "\n",
    "catColumns = list(map(lambda x: x + \"_Coded\", stringColumnsIndexed))\n",
    "    \n",
    "encoder = OneHotEncoder()\\\n",
    "    .setInputCols(stringColumnsIndexed)\\\n",
    "    .setOutputCols(catColumns)\n",
    "\n",
    "encoded = encoder.fit(indexed).transform(indexed)\n",
    "encoded.limit(5)"
   ]
  },
  {
   "cell_type": "code",
   "execution_count": 81,
   "metadata": {},
   "outputs": [
    {
     "data": {
      "text/html": [
       "<div>\n",
       "<style scoped>\n",
       "    .dataframe tbody tr th:only-of-type {\n",
       "        vertical-align: middle;\n",
       "    }\n",
       "\n",
       "    .dataframe tbody tr th {\n",
       "        vertical-align: top;\n",
       "    }\n",
       "\n",
       "    .dataframe thead th {\n",
       "        text-align: right;\n",
       "    }\n",
       "</style>\n",
       "<table border=\"1\" class=\"dataframe\">\n",
       "  <thead>\n",
       "    <tr style=\"text-align: right;\">\n",
       "      <th></th>\n",
       "      <th>Education_Level</th>\n",
       "      <th>Education_Level_Indexed_Coded</th>\n",
       "    </tr>\n",
       "  </thead>\n",
       "  <tbody>\n",
       "    <tr>\n",
       "      <th>0</th>\n",
       "      <td>High School</td>\n",
       "      <td>(0.0, 1.0, 0.0, 0.0, 0.0, 0.0)</td>\n",
       "    </tr>\n",
       "    <tr>\n",
       "      <th>1</th>\n",
       "      <td>Graduate</td>\n",
       "      <td>(1.0, 0.0, 0.0, 0.0, 0.0, 0.0)</td>\n",
       "    </tr>\n",
       "    <tr>\n",
       "      <th>2</th>\n",
       "      <td>Graduate</td>\n",
       "      <td>(1.0, 0.0, 0.0, 0.0, 0.0, 0.0)</td>\n",
       "    </tr>\n",
       "    <tr>\n",
       "      <th>3</th>\n",
       "      <td>High School</td>\n",
       "      <td>(0.0, 1.0, 0.0, 0.0, 0.0, 0.0)</td>\n",
       "    </tr>\n",
       "    <tr>\n",
       "      <th>4</th>\n",
       "      <td>Uneducated</td>\n",
       "      <td>(0.0, 0.0, 0.0, 1.0, 0.0, 0.0)</td>\n",
       "    </tr>\n",
       "    <tr>\n",
       "      <th>5</th>\n",
       "      <td>Graduate</td>\n",
       "      <td>(1.0, 0.0, 0.0, 0.0, 0.0, 0.0)</td>\n",
       "    </tr>\n",
       "    <tr>\n",
       "      <th>6</th>\n",
       "      <td>Unknown</td>\n",
       "      <td>(0.0, 0.0, 1.0, 0.0, 0.0, 0.0)</td>\n",
       "    </tr>\n",
       "    <tr>\n",
       "      <th>7</th>\n",
       "      <td>High School</td>\n",
       "      <td>(0.0, 1.0, 0.0, 0.0, 0.0, 0.0)</td>\n",
       "    </tr>\n",
       "    <tr>\n",
       "      <th>8</th>\n",
       "      <td>Uneducated</td>\n",
       "      <td>(0.0, 0.0, 0.0, 1.0, 0.0, 0.0)</td>\n",
       "    </tr>\n",
       "    <tr>\n",
       "      <th>9</th>\n",
       "      <td>Graduate</td>\n",
       "      <td>(1.0, 0.0, 0.0, 0.0, 0.0, 0.0)</td>\n",
       "    </tr>\n",
       "  </tbody>\n",
       "</table>\n",
       "</div>"
      ],
      "text/plain": [
       "  Education_Level   Education_Level_Indexed_Coded\n",
       "0     High School  (0.0, 1.0, 0.0, 0.0, 0.0, 0.0)\n",
       "1        Graduate  (1.0, 0.0, 0.0, 0.0, 0.0, 0.0)\n",
       "2        Graduate  (1.0, 0.0, 0.0, 0.0, 0.0, 0.0)\n",
       "3     High School  (0.0, 1.0, 0.0, 0.0, 0.0, 0.0)\n",
       "4      Uneducated  (0.0, 0.0, 0.0, 1.0, 0.0, 0.0)\n",
       "5        Graduate  (1.0, 0.0, 0.0, 0.0, 0.0, 0.0)\n",
       "6         Unknown  (0.0, 0.0, 1.0, 0.0, 0.0, 0.0)\n",
       "7     High School  (0.0, 1.0, 0.0, 0.0, 0.0, 0.0)\n",
       "8      Uneducated  (0.0, 0.0, 0.0, 1.0, 0.0, 0.0)\n",
       "9        Graduate  (1.0, 0.0, 0.0, 0.0, 0.0, 0.0)"
      ]
     },
     "execution_count": 81,
     "metadata": {},
     "output_type": "execute_result"
    }
   ],
   "source": [
    "encoded.select(c1, f'{c1}_Indexed_Coded').toPandas().head(10)"
   ]
  },
  {
   "cell_type": "markdown",
   "metadata": {},
   "source": [
    "### Собираем признаки в вектор"
   ]
  },
  {
   "cell_type": "code",
   "execution_count": 82,
   "metadata": {},
   "outputs": [],
   "source": [
    "from pyspark.ml.feature import VectorAssembler\n",
    "\n",
    "featureColumns = numericColumnsFinal + catColumns\n",
    "\n",
    "assembler = VectorAssembler()\\\n",
    "    .setInputCols(featureColumns)\\\n",
    "    .setOutputCol(\"features\")\n",
    "\n",
    "assembled = assembler.transform(encoded)"
   ]
  },
  {
   "cell_type": "code",
   "execution_count": 83,
   "metadata": {},
   "outputs": [
    {
     "data": {
      "text/html": [
       "<div>\n",
       "<style scoped>\n",
       "    .dataframe tbody tr th:only-of-type {\n",
       "        vertical-align: middle;\n",
       "    }\n",
       "\n",
       "    .dataframe tbody tr th {\n",
       "        vertical-align: top;\n",
       "    }\n",
       "\n",
       "    .dataframe thead th {\n",
       "        text-align: right;\n",
       "    }\n",
       "</style>\n",
       "<table border=\"1\" class=\"dataframe\">\n",
       "  <thead>\n",
       "    <tr style=\"text-align: right;\">\n",
       "      <th></th>\n",
       "      <th>features</th>\n",
       "    </tr>\n",
       "  </thead>\n",
       "  <tbody>\n",
       "    <tr>\n",
       "      <th>0</th>\n",
       "      <td>(1144.0, 45.0, 5.0, 1.0, 777.0, 1.335, 3.0, 1....</td>\n",
       "    </tr>\n",
       "    <tr>\n",
       "      <th>1</th>\n",
       "      <td>(1291.0, 49.0, 6.0, 1.0, 864.0, 1.541, 5.0, 3....</td>\n",
       "    </tr>\n",
       "    <tr>\n",
       "      <th>2</th>\n",
       "      <td>(1887.0, 51.0, 4.0, 1.0, 0.0, 2.594, 3.0, 2.33...</td>\n",
       "    </tr>\n",
       "    <tr>\n",
       "      <th>3</th>\n",
       "      <td>(1171.0, 40.0, 3.0, 4.0, 2517.0, 1.405, 4.0, 2...</td>\n",
       "    </tr>\n",
       "    <tr>\n",
       "      <th>4</th>\n",
       "      <td>(816.0, 40.0, 5.0, 1.0, 0.0, 2.175, 3.0, 2.5, ...</td>\n",
       "    </tr>\n",
       "    <tr>\n",
       "      <th>...</th>\n",
       "      <td>...</td>\n",
       "    </tr>\n",
       "    <tr>\n",
       "      <th>16630</th>\n",
       "      <td>(10294.0, 43.0, 6.0, 2.0, 1961.0, 0.703, 2.0, ...</td>\n",
       "    </tr>\n",
       "    <tr>\n",
       "      <th>16631</th>\n",
       "      <td>(10294.0, 43.0, 6.0, 2.0, 1961.0, 0.703, 2.0, ...</td>\n",
       "    </tr>\n",
       "    <tr>\n",
       "      <th>16632</th>\n",
       "      <td>(10294.0, 43.0, 6.0, 2.0, 1961.0, 0.703, 2.0, ...</td>\n",
       "    </tr>\n",
       "    <tr>\n",
       "      <th>16633</th>\n",
       "      <td>(10294.0, 43.0, 6.0, 2.0, 1961.0, 0.703, 2.0, ...</td>\n",
       "    </tr>\n",
       "    <tr>\n",
       "      <th>16634</th>\n",
       "      <td>(10294.0, 43.0, 6.0, 2.0, 1961.0, 0.703, 2.0, ...</td>\n",
       "    </tr>\n",
       "  </tbody>\n",
       "</table>\n",
       "<p>16635 rows × 1 columns</p>\n",
       "</div>"
      ],
      "text/plain": [
       "                                                features\n",
       "0      (1144.0, 45.0, 5.0, 1.0, 777.0, 1.335, 3.0, 1....\n",
       "1      (1291.0, 49.0, 6.0, 1.0, 864.0, 1.541, 5.0, 3....\n",
       "2      (1887.0, 51.0, 4.0, 1.0, 0.0, 2.594, 3.0, 2.33...\n",
       "3      (1171.0, 40.0, 3.0, 4.0, 2517.0, 1.405, 4.0, 2...\n",
       "4      (816.0, 40.0, 5.0, 1.0, 0.0, 2.175, 3.0, 2.5, ...\n",
       "...                                                  ...\n",
       "16630  (10294.0, 43.0, 6.0, 2.0, 1961.0, 0.703, 2.0, ...\n",
       "16631  (10294.0, 43.0, 6.0, 2.0, 1961.0, 0.703, 2.0, ...\n",
       "16632  (10294.0, 43.0, 6.0, 2.0, 1961.0, 0.703, 2.0, ...\n",
       "16633  (10294.0, 43.0, 6.0, 2.0, 1961.0, 0.703, 2.0, ...\n",
       "16634  (10294.0, 43.0, 6.0, 2.0, 1961.0, 0.703, 2.0, ...\n",
       "\n",
       "[16635 rows x 1 columns]"
      ]
     },
     "execution_count": 83,
     "metadata": {},
     "output_type": "execute_result"
    }
   ],
   "source": [
    "assembled.select(\"features\").toPandas()\n"
   ]
  },
  {
   "cell_type": "code",
   "execution_count": 85,
   "metadata": {},
   "outputs": [
    {
     "name": "stdout",
     "output_type": "stream",
     "text": [
      "+---------------------------------------------------------------------------------------------------------------------+\n",
      "|features                                                                                                             |\n",
      "+---------------------------------------------------------------------------------------------------------------------+\n",
      "|(28,[0,1,2,3,4,5,6,7,8,9,12,17,23,25],[1144.0,45.0,5.0,1.0,777.0,1.335,3.0,1.625,3.0,12691.0,1.0,1.0,1.0,1.0])       |\n",
      "|(28,[0,1,2,3,4,5,6,7,8,9,10,11,18,20,25],[1291.0,49.0,6.0,1.0,864.0,1.541,5.0,3.714,2.0,8256.0,1.0,1.0,1.0,1.0,1.0]) |\n",
      "|(28,[0,1,2,3,5,6,7,9,11,17,22,25],[1887.0,51.0,4.0,1.0,2.594,3.0,2.333,3418.0,1.0,1.0,1.0,1.0])                      |\n",
      "|(28,[0,1,2,3,4,5,6,7,8,9,10,12,19,20,25],[1171.0,40.0,3.0,4.0,2517.0,1.405,4.0,2.333,1.0,3313.0,1.0,1.0,1.0,1.0,1.0])|\n",
      "|(28,[0,1,2,3,5,6,7,9,14,17,23,25],[816.0,40.0,5.0,1.0,2.175,3.0,2.5,4716.0,1.0,1.0,1.0,1.0])                         |\n",
      "+---------------------------------------------------------------------------------------------------------------------+\n",
      "only showing top 5 rows\n",
      "\n"
     ]
    }
   ],
   "source": [
    "assembled.select(\"features\").show(5, False)"
   ]
  },
  {
   "cell_type": "markdown",
   "metadata": {},
   "source": [
    "### Нормализация"
   ]
  },
  {
   "cell_type": "code",
   "execution_count": 86,
   "metadata": {},
   "outputs": [
    {
     "data": {
      "text/html": [
       "<div>\n",
       "<style scoped>\n",
       "    .dataframe tbody tr th:only-of-type {\n",
       "        vertical-align: middle;\n",
       "    }\n",
       "\n",
       "    .dataframe tbody tr th {\n",
       "        vertical-align: top;\n",
       "    }\n",
       "\n",
       "    .dataframe thead th {\n",
       "        text-align: right;\n",
       "    }\n",
       "</style>\n",
       "<table border=\"1\" class=\"dataframe\">\n",
       "  <thead>\n",
       "    <tr style=\"text-align: right;\">\n",
       "      <th></th>\n",
       "      <th>features</th>\n",
       "      <th>scaledFeatures</th>\n",
       "    </tr>\n",
       "  </thead>\n",
       "  <tbody>\n",
       "    <tr>\n",
       "      <th>0</th>\n",
       "      <td>(1144.0, 45.0, 5.0, 1.0, 777.0, 1.335, 3.0, 1....</td>\n",
       "      <td>(0.03527317236007566, 0.40425531914893614, 0.8...</td>\n",
       "    </tr>\n",
       "    <tr>\n",
       "      <th>1</th>\n",
       "      <td>(1291.0, 49.0, 6.0, 1.0, 864.0, 1.541, 5.0, 3....</td>\n",
       "      <td>(0.043451652386780906, 0.48936170212765956, 1....</td>\n",
       "    </tr>\n",
       "    <tr>\n",
       "      <th>2</th>\n",
       "      <td>(1887.0, 51.0, 4.0, 1.0, 0.0, 2.594, 3.0, 2.33...</td>\n",
       "      <td>(0.07661065984199399, 0.5319148936170213, 0.60...</td>\n",
       "    </tr>\n",
       "    <tr>\n",
       "      <th>3</th>\n",
       "      <td>(1171.0, 40.0, 3.0, 4.0, 2517.0, 1.405, 4.0, 2...</td>\n",
       "      <td>(0.036775342160899074, 0.2978723404255319, 0.4...</td>\n",
       "    </tr>\n",
       "    <tr>\n",
       "      <th>4</th>\n",
       "      <td>(816.0, 40.0, 5.0, 1.0, 0.0, 2.175, 3.0, 2.5, ...</td>\n",
       "      <td>(0.017024591075998664, 0.2978723404255319, 0.8...</td>\n",
       "    </tr>\n",
       "    <tr>\n",
       "      <th>...</th>\n",
       "      <td>...</td>\n",
       "      <td>...</td>\n",
       "    </tr>\n",
       "    <tr>\n",
       "      <th>16630</th>\n",
       "      <td>(10294.0, 43.0, 6.0, 2.0, 1961.0, 0.703, 2.0, ...</td>\n",
       "      <td>(0.5443418270835652, 0.36170212765957444, 1.0,...</td>\n",
       "    </tr>\n",
       "    <tr>\n",
       "      <th>16631</th>\n",
       "      <td>(10294.0, 43.0, 6.0, 2.0, 1961.0, 0.703, 2.0, ...</td>\n",
       "      <td>(0.5443418270835652, 0.36170212765957444, 1.0,...</td>\n",
       "    </tr>\n",
       "    <tr>\n",
       "      <th>16632</th>\n",
       "      <td>(10294.0, 43.0, 6.0, 2.0, 1961.0, 0.703, 2.0, ...</td>\n",
       "      <td>(0.5443418270835652, 0.36170212765957444, 1.0,...</td>\n",
       "    </tr>\n",
       "    <tr>\n",
       "      <th>16633</th>\n",
       "      <td>(10294.0, 43.0, 6.0, 2.0, 1961.0, 0.703, 2.0, ...</td>\n",
       "      <td>(0.5443418270835652, 0.36170212765957444, 1.0,...</td>\n",
       "    </tr>\n",
       "    <tr>\n",
       "      <th>16634</th>\n",
       "      <td>(10294.0, 43.0, 6.0, 2.0, 1961.0, 0.703, 2.0, ...</td>\n",
       "      <td>(0.5443418270835652, 0.36170212765957444, 1.0,...</td>\n",
       "    </tr>\n",
       "  </tbody>\n",
       "</table>\n",
       "<p>16635 rows × 2 columns</p>\n",
       "</div>"
      ],
      "text/plain": [
       "                                                features  \\\n",
       "0      (1144.0, 45.0, 5.0, 1.0, 777.0, 1.335, 3.0, 1....   \n",
       "1      (1291.0, 49.0, 6.0, 1.0, 864.0, 1.541, 5.0, 3....   \n",
       "2      (1887.0, 51.0, 4.0, 1.0, 0.0, 2.594, 3.0, 2.33...   \n",
       "3      (1171.0, 40.0, 3.0, 4.0, 2517.0, 1.405, 4.0, 2...   \n",
       "4      (816.0, 40.0, 5.0, 1.0, 0.0, 2.175, 3.0, 2.5, ...   \n",
       "...                                                  ...   \n",
       "16630  (10294.0, 43.0, 6.0, 2.0, 1961.0, 0.703, 2.0, ...   \n",
       "16631  (10294.0, 43.0, 6.0, 2.0, 1961.0, 0.703, 2.0, ...   \n",
       "16632  (10294.0, 43.0, 6.0, 2.0, 1961.0, 0.703, 2.0, ...   \n",
       "16633  (10294.0, 43.0, 6.0, 2.0, 1961.0, 0.703, 2.0, ...   \n",
       "16634  (10294.0, 43.0, 6.0, 2.0, 1961.0, 0.703, 2.0, ...   \n",
       "\n",
       "                                          scaledFeatures  \n",
       "0      (0.03527317236007566, 0.40425531914893614, 0.8...  \n",
       "1      (0.043451652386780906, 0.48936170212765956, 1....  \n",
       "2      (0.07661065984199399, 0.5319148936170213, 0.60...  \n",
       "3      (0.036775342160899074, 0.2978723404255319, 0.4...  \n",
       "4      (0.017024591075998664, 0.2978723404255319, 0.8...  \n",
       "...                                                  ...  \n",
       "16630  (0.5443418270835652, 0.36170212765957444, 1.0,...  \n",
       "16631  (0.5443418270835652, 0.36170212765957444, 1.0,...  \n",
       "16632  (0.5443418270835652, 0.36170212765957444, 1.0,...  \n",
       "16633  (0.5443418270835652, 0.36170212765957444, 1.0,...  \n",
       "16634  (0.5443418270835652, 0.36170212765957444, 1.0,...  \n",
       "\n",
       "[16635 rows x 2 columns]"
      ]
     },
     "execution_count": 86,
     "metadata": {},
     "output_type": "execute_result"
    }
   ],
   "source": [
    "from pyspark.ml.feature import MinMaxScaler\n",
    "\n",
    "scaler = MinMaxScaler()\\\n",
    "    .setInputCol(\"features\")\\\n",
    "    .setOutputCol(\"scaledFeatures\")\n",
    "\n",
    "scaled = scaler.fit(assembled).transform(assembled)\n",
    "\n",
    "scaled.select(\"features\", \"scaledFeatures\").toPandas()"
   ]
  },
  {
   "cell_type": "markdown",
   "metadata": {},
   "source": [
    "## Feature Selection (отбор признаков)"
   ]
  },
  {
   "cell_type": "code",
   "execution_count": 87,
   "metadata": {},
   "outputs": [
    {
     "data": {
      "text/html": [
       "<div>\n",
       "<style scoped>\n",
       "    .dataframe tbody tr th:only-of-type {\n",
       "        vertical-align: middle;\n",
       "    }\n",
       "\n",
       "    .dataframe tbody tr th {\n",
       "        vertical-align: top;\n",
       "    }\n",
       "\n",
       "    .dataframe thead th {\n",
       "        text-align: right;\n",
       "    }\n",
       "</style>\n",
       "<table border=\"1\" class=\"dataframe\">\n",
       "  <thead>\n",
       "    <tr style=\"text-align: right;\">\n",
       "      <th></th>\n",
       "      <th>scaledFeatures</th>\n",
       "      <th>selectedFeatures</th>\n",
       "    </tr>\n",
       "  </thead>\n",
       "  <tbody>\n",
       "    <tr>\n",
       "      <th>0</th>\n",
       "      <td>(0.03527317236007566, 0.40425531914893614, 0.8...</td>\n",
       "      <td>(0.03527317236007566, 0.40425531914893614, 0.8...</td>\n",
       "    </tr>\n",
       "    <tr>\n",
       "      <th>1</th>\n",
       "      <td>(0.043451652386780906, 0.48936170212765956, 1....</td>\n",
       "      <td>(0.043451652386780906, 0.48936170212765956, 1....</td>\n",
       "    </tr>\n",
       "    <tr>\n",
       "      <th>2</th>\n",
       "      <td>(0.07661065984199399, 0.5319148936170213, 0.60...</td>\n",
       "      <td>(0.07661065984199399, 0.5319148936170213, 0.60...</td>\n",
       "    </tr>\n",
       "    <tr>\n",
       "      <th>3</th>\n",
       "      <td>(0.036775342160899074, 0.2978723404255319, 0.4...</td>\n",
       "      <td>(0.036775342160899074, 0.2978723404255319, 0.4...</td>\n",
       "    </tr>\n",
       "    <tr>\n",
       "      <th>4</th>\n",
       "      <td>(0.017024591075998664, 0.2978723404255319, 0.8...</td>\n",
       "      <td>(0.017024591075998664, 0.2978723404255319, 0.8...</td>\n",
       "    </tr>\n",
       "    <tr>\n",
       "      <th>...</th>\n",
       "      <td>...</td>\n",
       "      <td>...</td>\n",
       "    </tr>\n",
       "    <tr>\n",
       "      <th>16630</th>\n",
       "      <td>(0.5443418270835652, 0.36170212765957444, 1.0,...</td>\n",
       "      <td>(0.5443418270835652, 0.36170212765957444, 1.0,...</td>\n",
       "    </tr>\n",
       "    <tr>\n",
       "      <th>16631</th>\n",
       "      <td>(0.5443418270835652, 0.36170212765957444, 1.0,...</td>\n",
       "      <td>(0.5443418270835652, 0.36170212765957444, 1.0,...</td>\n",
       "    </tr>\n",
       "    <tr>\n",
       "      <th>16632</th>\n",
       "      <td>(0.5443418270835652, 0.36170212765957444, 1.0,...</td>\n",
       "      <td>(0.5443418270835652, 0.36170212765957444, 1.0,...</td>\n",
       "    </tr>\n",
       "    <tr>\n",
       "      <th>16633</th>\n",
       "      <td>(0.5443418270835652, 0.36170212765957444, 1.0,...</td>\n",
       "      <td>(0.5443418270835652, 0.36170212765957444, 1.0,...</td>\n",
       "    </tr>\n",
       "    <tr>\n",
       "      <th>16634</th>\n",
       "      <td>(0.5443418270835652, 0.36170212765957444, 1.0,...</td>\n",
       "      <td>(0.5443418270835652, 0.36170212765957444, 1.0,...</td>\n",
       "    </tr>\n",
       "  </tbody>\n",
       "</table>\n",
       "<p>16635 rows × 2 columns</p>\n",
       "</div>"
      ],
      "text/plain": [
       "                                          scaledFeatures  \\\n",
       "0      (0.03527317236007566, 0.40425531914893614, 0.8...   \n",
       "1      (0.043451652386780906, 0.48936170212765956, 1....   \n",
       "2      (0.07661065984199399, 0.5319148936170213, 0.60...   \n",
       "3      (0.036775342160899074, 0.2978723404255319, 0.4...   \n",
       "4      (0.017024591075998664, 0.2978723404255319, 0.8...   \n",
       "...                                                  ...   \n",
       "16630  (0.5443418270835652, 0.36170212765957444, 1.0,...   \n",
       "16631  (0.5443418270835652, 0.36170212765957444, 1.0,...   \n",
       "16632  (0.5443418270835652, 0.36170212765957444, 1.0,...   \n",
       "16633  (0.5443418270835652, 0.36170212765957444, 1.0,...   \n",
       "16634  (0.5443418270835652, 0.36170212765957444, 1.0,...   \n",
       "\n",
       "                                        selectedFeatures  \n",
       "0      (0.03527317236007566, 0.40425531914893614, 0.8...  \n",
       "1      (0.043451652386780906, 0.48936170212765956, 1....  \n",
       "2      (0.07661065984199399, 0.5319148936170213, 0.60...  \n",
       "3      (0.036775342160899074, 0.2978723404255319, 0.4...  \n",
       "4      (0.017024591075998664, 0.2978723404255319, 0.8...  \n",
       "...                                                  ...  \n",
       "16630  (0.5443418270835652, 0.36170212765957444, 1.0,...  \n",
       "16631  (0.5443418270835652, 0.36170212765957444, 1.0,...  \n",
       "16632  (0.5443418270835652, 0.36170212765957444, 1.0,...  \n",
       "16633  (0.5443418270835652, 0.36170212765957444, 1.0,...  \n",
       "16634  (0.5443418270835652, 0.36170212765957444, 1.0,...  \n",
       "\n",
       "[16635 rows x 2 columns]"
      ]
     },
     "execution_count": 87,
     "metadata": {},
     "output_type": "execute_result"
    }
   ],
   "source": [
    "from pyspark.ml.feature import UnivariateFeatureSelector\n",
    "\n",
    "selector = UnivariateFeatureSelector()\\\n",
    "    .setFeatureType(\"continuous\")\\\n",
    "    .setLabelType(\"categorical\")\\\n",
    "    .setSelectionMode(\"percentile\")\\\n",
    "    .setSelectionThreshold(0.75)\\\n",
    "    .setFeaturesCol(\"scaledFeatures\")\\\n",
    "    .setLabelCol(\"target\")\\\n",
    "    .setOutputCol(\"selectedFeatures\")\n",
    "\n",
    "dataF = selector.fit(scaled).transform(scaled)\n",
    "\n",
    "dataF.select(\"scaledFeatures\", \"selectedFeatures\").toPandas()"
   ]
  },
  {
   "cell_type": "markdown",
   "metadata": {},
   "source": [
    "## Моделирование"
   ]
  },
  {
   "cell_type": "markdown",
   "metadata": {},
   "source": [
    "### Обучающая и тестовая выборки"
   ]
  },
  {
   "cell_type": "code",
   "execution_count": 88,
   "metadata": {},
   "outputs": [],
   "source": [
    "tt = dataF.randomSplit([0.7, 0.3])\n",
    "training = tt[0]\n",
    "test = tt[1]"
   ]
  },
  {
   "cell_type": "code",
   "execution_count": 89,
   "metadata": {},
   "outputs": [
    {
     "name": "stdout",
     "output_type": "stream",
     "text": [
      "training\t11611\n",
      "test    \t 5024\n"
     ]
    }
   ],
   "source": [
    "print(f\"training\\t{training.count():>5}\\ntest    \\t{test.count():>5}\")"
   ]
  },
  {
   "cell_type": "markdown",
   "metadata": {},
   "source": [
    "### Логистическая регрессия"
   ]
  },
  {
   "cell_type": "code",
   "execution_count": 90,
   "metadata": {},
   "outputs": [
    {
     "name": "stdout",
     "output_type": "stream",
     "text": [
      "Coefficients: (21,[4,7],[-0.022475630724268416,-1.5044001561695635])\n",
      "Intercept: 0.23767871485150344\n"
     ]
    }
   ],
   "source": [
    "from pyspark.ml.classification import LogisticRegression\n",
    "\n",
    "lr = LogisticRegression()\\\n",
    "    .setMaxIter(1000)\\\n",
    "    .setRegParam(0.2)\\\n",
    "    .setElasticNetParam(0.8)\\\n",
    "    .setFamily(\"binomial\")\\\n",
    "    .setFeaturesCol(\"selectedFeatures\")\\\n",
    "    .setLabelCol(\"target\")\n",
    "\n",
    "lrModel = lr.fit(training)\n",
    "\n",
    "print(f\"Coefficients: {lrModel.coefficients}\\nIntercept: {lrModel.intercept}\")"
   ]
  },
  {
   "cell_type": "markdown",
   "metadata": {},
   "source": [
    "### Training Summary"
   ]
  },
  {
   "cell_type": "code",
   "execution_count": 91,
   "metadata": {},
   "outputs": [
    {
     "name": "stdout",
     "output_type": "stream",
     "text": [
      "accuracy: 0.7122556196710016\n",
      "areaUnderROC: 0.755697773214372\n"
     ]
    }
   ],
   "source": [
    "trainingSummary = lrModel.summary\n",
    "\n",
    "print(f\"accuracy: {trainingSummary.accuracy}\")\n",
    "print(f\"areaUnderROC: {trainingSummary.areaUnderROC}\")"
   ]
  },
  {
   "cell_type": "markdown",
   "metadata": {},
   "source": [
    "### Проверяем модель на тестовой выборке"
   ]
  },
  {
   "cell_type": "code",
   "execution_count": 93,
   "metadata": {},
   "outputs": [
    {
     "data": {
      "text/html": [
       "<table border='1'>\n",
       "<tr><th>target</th><th>prediction</th></tr>\n",
       "<tr><td>0</td><td>0.0</td></tr>\n",
       "<tr><td>0</td><td>1.0</td></tr>\n",
       "<tr><td>0</td><td>0.0</td></tr>\n",
       "<tr><td>0</td><td>1.0</td></tr>\n",
       "<tr><td>0</td><td>1.0</td></tr>\n",
       "<tr><td>0</td><td>1.0</td></tr>\n",
       "<tr><td>0</td><td>1.0</td></tr>\n",
       "<tr><td>0</td><td>1.0</td></tr>\n",
       "<tr><td>0</td><td>0.0</td></tr>\n",
       "<tr><td>0</td><td>1.0</td></tr>\n",
       "<tr><td>0</td><td>1.0</td></tr>\n",
       "<tr><td>0</td><td>1.0</td></tr>\n",
       "<tr><td>0</td><td>1.0</td></tr>\n",
       "<tr><td>0</td><td>1.0</td></tr>\n",
       "<tr><td>0</td><td>1.0</td></tr>\n",
       "<tr><td>0</td><td>1.0</td></tr>\n",
       "<tr><td>0</td><td>1.0</td></tr>\n",
       "<tr><td>0</td><td>1.0</td></tr>\n",
       "<tr><td>0</td><td>0.0</td></tr>\n",
       "<tr><td>0</td><td>1.0</td></tr>\n",
       "</table>\n"
      ],
      "text/plain": [
       "+------+----------+\n",
       "|target|prediction|\n",
       "+------+----------+\n",
       "|     0|       0.0|\n",
       "|     0|       1.0|\n",
       "|     0|       0.0|\n",
       "|     0|       1.0|\n",
       "|     0|       1.0|\n",
       "|     0|       1.0|\n",
       "|     0|       1.0|\n",
       "|     0|       1.0|\n",
       "|     0|       0.0|\n",
       "|     0|       1.0|\n",
       "|     0|       1.0|\n",
       "|     0|       1.0|\n",
       "|     0|       1.0|\n",
       "|     0|       1.0|\n",
       "|     0|       1.0|\n",
       "|     0|       1.0|\n",
       "|     0|       1.0|\n",
       "|     0|       1.0|\n",
       "|     0|       0.0|\n",
       "|     0|       1.0|\n",
       "+------+----------+"
      ]
     },
     "execution_count": 93,
     "metadata": {},
     "output_type": "execute_result"
    }
   ],
   "source": [
    "predicted = lrModel.transform(test)\n",
    "\n",
    "predicted.select(\"target\", \"prediction\").limit(20)"
   ]
  },
  {
   "cell_type": "code",
   "execution_count": 94,
   "metadata": {},
   "outputs": [
    {
     "name": "stdout",
     "output_type": "stream",
     "text": [
      "areaUnderROC: 0.7618115913977402\n"
     ]
    }
   ],
   "source": [
    "from pyspark.ml.evaluation import BinaryClassificationEvaluator\n",
    "\n",
    "evaluator = BinaryClassificationEvaluator().setLabelCol(\"target\")\n",
    "\n",
    "print(f\"areaUnderROC: {evaluator.evaluate(predicted)}\")"
   ]
  },
  {
   "cell_type": "markdown",
   "metadata": {},
   "source": [
    "#### Confusion Matrix (матрица ошибок)\n",
    "\n",
    "* True Positive (TP) - label is positive and prediction is also positive\n",
    "* True Negative (TN) - label is negative and prediction is also negative\n",
    "* False Positive (FP) - label is negative but prediction is positive\n",
    "* False Negative (FN) - label is positive but prediction is negative"
   ]
  },
  {
   "cell_type": "code",
   "execution_count": 95,
   "metadata": {},
   "outputs": [
    {
     "name": "stdout",
     "output_type": "stream",
     "text": [
      "Confusion Matrix:\n",
      "1404\t 399\n",
      "1024\t2197\n"
     ]
    }
   ],
   "source": [
    "tp = predicted.filter((f.col(\"target\") == 1) & (f.col(\"prediction\") == 1)).count()\n",
    "tn = predicted.filter((f.col(\"target\") == 0) & (f.col(\"prediction\") == 0)).count()\n",
    "fp = predicted.filter((f.col(\"target\") == 0) & (f.col(\"prediction\") == 1)).count()\n",
    "fn = predicted.filter((f.col(\"target\") == 1) & (f.col(\"prediction\") == 0)).count()\n",
    "\n",
    "print(f\"Confusion Matrix:\\n{tp:>4}\\t{fp:>4}\\n{fn:>4}\\t{tn:>4}\")"
   ]
  },
  {
   "cell_type": "markdown",
   "metadata": {},
   "source": [
    "#### Accuracy, Precision, Recall\n",
    "\n",
    "* Accuracy (доля правильных ответов) = TP + TN / (TP + TN + FP + FN)\n",
    "* Precision (точность) = TP / (TP + FP)\n",
    "* Recall (полнота) = TP / (TP + FN)"
   ]
  },
  {
   "cell_type": "code",
   "execution_count": 98,
   "metadata": {},
   "outputs": [
    {
     "name": "stdout",
     "output_type": "stream",
     "text": [
      "Accuracy = 0.7167595541401274\n",
      "Precision = 0.778702163061564\n",
      "Recall = 0.5782537067545305\n"
     ]
    }
   ],
   "source": [
    "accuracy = (tp + tn) / (tp + tn + fp + fn)\n",
    "precision = tp / (tp + fp)\n",
    "recall = tp / (tp + fn)\n",
    "\n",
    "print(f\"Accuracy = {accuracy}\")\n",
    "print(f\"Precision = {precision}\")\n",
    "print(f\"Recall = {recall}\")"
   ]
  },
  {
   "cell_type": "markdown",
   "metadata": {},
   "source": [
    "## Настраиваем модель (подбираем гиперпараметры)"
   ]
  },
  {
   "cell_type": "code",
   "execution_count": 99,
   "metadata": {},
   "outputs": [],
   "source": [
    "from pyspark.ml.tuning import ParamGridBuilder, TrainValidationSplit\n",
    "\n",
    "paramGrid = ParamGridBuilder()\\\n",
    "    .addGrid(lr.regParam, [0.01, 0.1, 0.5])\\\n",
    "    .addGrid(lr.fitIntercept, [False, True])\\\n",
    "    .addGrid(lr.elasticNetParam, [0.0, 0.5, 1.0])\\\n",
    "    .build()\n",
    "\n",
    "trainValidationSplit = TrainValidationSplit()\\\n",
    "    .setEstimator(lr)\\\n",
    "    .setEvaluator(evaluator)\\\n",
    "    .setEstimatorParamMaps(paramGrid)\\\n",
    "    .setTrainRatio(0.7)\\\n",
    "    .setParallelism(2)\n",
    "\n",
    "model = trainValidationSplit.fit(dataF)"
   ]
  },
  {
   "cell_type": "code",
   "execution_count": 100,
   "metadata": {},
   "outputs": [
    {
     "name": "stdout",
     "output_type": "stream",
     "text": [
      "aggregationDepth\t2\n",
      "elasticNetParam \t0.0\n",
      "family          \tbinomial\n",
      "featuresCol     \tselectedFeatures\n",
      "fitIntercept    \tTrue\n",
      "labelCol        \ttarget\n",
      "maxBlockSizeInMB\t0.0\n",
      "maxIter         \t1000\n",
      "predictionCol   \tprediction\n",
      "probabilityCol  \tprobability\n",
      "rawPredictionCol\trawPrediction\n",
      "regParam        \t0.01\n",
      "standardization \tTrue\n",
      "threshold       \t0.5\n",
      "tol             \t1e-06\n"
     ]
    }
   ],
   "source": [
    "param_map = model.bestModel.extractParamMap()\n",
    "for i in param_map:\n",
    "    print(f\"{i.name:<16}\\t{param_map[i]}\")"
   ]
  },
  {
   "cell_type": "code",
   "execution_count": 101,
   "metadata": {},
   "outputs": [],
   "source": [
    "bestML = model.bestModel"
   ]
  },
  {
   "cell_type": "markdown",
   "metadata": {},
   "source": [
    "## Собираем всё вместе (Pipeline)\n",
    "\n",
    "1. Отобрали числовые признаки: numericColumnsFinal\n",
    "2. Проиндексировали строковые признаки: indexer\n",
    "3. Закодировали категориальные признаки: encoder\n",
    "4. Собрали признаки в вектор: assembler\n",
    "5. Нормализовали признаки: scaler\n",
    "6. Провели отбор признаков: selector\n",
    "7. Рассчитали модель: bestML "
   ]
  },
  {
   "cell_type": "code",
   "execution_count": 102,
   "metadata": {},
   "outputs": [],
   "source": [
    "from pyspark.ml import Pipeline\n",
    "\n",
    "pipeline = Pipeline().setStages(\n",
    "    [indexer, encoder, assembler, scaler, selector, bestML])"
   ]
  },
  {
   "cell_type": "code",
   "execution_count": 103,
   "metadata": {},
   "outputs": [],
   "source": [
    "[trainingData, testData] = data.randomSplit([0.7, 0.3])\n",
    "\n",
    "pipelineModel = pipeline.fit(trainingData)"
   ]
  },
  {
   "cell_type": "markdown",
   "metadata": {},
   "source": [
    "## Сохраняем модель"
   ]
  },
  {
   "cell_type": "code",
   "execution_count": 104,
   "metadata": {},
   "outputs": [
    {
     "name": "stderr",
     "output_type": "stream",
     "text": [
      "                                                                                "
     ]
    }
   ],
   "source": [
    "pipelineModel.write().overwrite().save(\"data/pipelineModel\")"
   ]
  },
  {
   "cell_type": "code",
   "execution_count": null,
   "metadata": {},
   "outputs": [],
   "source": []
  }
 ],
 "metadata": {
  "kernelspec": {
   "display_name": "Python 3 (ipykernel)",
   "language": "python",
   "name": "python3"
  },
  "language_info": {
   "codemirror_mode": {
    "name": "ipython",
    "version": 3
   },
   "file_extension": ".py",
   "mimetype": "text/x-python",
   "name": "python",
   "nbconvert_exporter": "python",
   "pygments_lexer": "ipython3",
   "version": "3.8.13"
  }
 },
 "nbformat": 4,
 "nbformat_minor": 4
}
